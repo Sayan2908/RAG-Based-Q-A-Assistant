{
  "nbformat": 4,
  "nbformat_minor": 0,
  "metadata": {
    "colab": {
      "provenance": [],
      "gpuType": "T4"
    },
    "kernelspec": {
      "name": "python3",
      "display_name": "Python 3"
    },
    "language_info": {
      "name": "python"
    },
    "accelerator": "GPU"
  },
  "cells": [
    {
      "cell_type": "markdown",
      "source": [
        "# **Downloading the necessary Packages**"
      ],
      "metadata": {
        "id": "A1j7zsClvXEH"
      }
    },
    {
      "cell_type": "code",
      "execution_count": null,
      "metadata": {
        "colab": {
          "base_uri": "https://localhost:8080/"
        },
        "id": "2ukQy6QmeLl3",
        "outputId": "018d3de7-884a-4235-c1dd-6c0f7692e7ce"
      },
      "outputs": [
        {
          "output_type": "stream",
          "name": "stdout",
          "text": [
            "Requirement already satisfied: pypdf in /usr/local/lib/python3.10/dist-packages (5.1.0)\n",
            "Requirement already satisfied: typing_extensions>=4.0 in /usr/local/lib/python3.10/dist-packages (from pypdf) (4.12.2)\n"
          ]
        }
      ],
      "source": [
        "!pip install pypdf"
      ]
    },
    {
      "cell_type": "code",
      "source": [
        "!pip install -q transformers einops accelerate langchain bitsandbytes"
      ],
      "metadata": {
        "id": "l9jzzn3GfJad"
      },
      "execution_count": null,
      "outputs": []
    },
    {
      "cell_type": "markdown",
      "source": [
        "# **Setting up the model**"
      ],
      "metadata": {
        "id": "jCbkBo2JvTtQ"
      }
    },
    {
      "cell_type": "code",
      "source": [
        "pip install -qU langchain-groq"
      ],
      "metadata": {
        "id": "cJZJs2FxvksK"
      },
      "execution_count": null,
      "outputs": []
    },
    {
      "cell_type": "code",
      "source": [
        "import getpass\n",
        "import os\n",
        "\n",
        "if not os.environ.get(\"GROQ_API_KEY\"):\n",
        "  os.environ[\"GROQ_API_KEY\"] = getpass.getpass(\"Enter API key for Groq: \")\n",
        "\n",
        "from langchain_groq import ChatGroq\n",
        "\n",
        "model = ChatGroq(model=\"llama3-8b-8192\")\n",
        "### key : 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"
      ],
      "metadata": {
        "id": "xf5AP-NIvn4o"
      },
      "execution_count": null,
      "outputs": []
    },
    {
      "cell_type": "code",
      "source": [
        "response = model.invoke(\"Hi I am Sayan\")\n",
        "print(response.content)"
      ],
      "metadata": {
        "colab": {
          "base_uri": "https://localhost:8080/"
        },
        "id": "im58kQtmyKzI",
        "outputId": "b65f1738-c3a0-4b79-9664-fc597cdfa5e3"
      },
      "execution_count": null,
      "outputs": [
        {
          "output_type": "stream",
          "name": "stdout",
          "text": [
            "Hi Sayan! Nice to meet you! Is there something I can help you with or would you like to chat?\n"
          ]
        }
      ]
    },
    {
      "cell_type": "code",
      "source": [
        "## Embedding\n",
        "!pip install sentence_transformers"
      ],
      "metadata": {
        "colab": {
          "base_uri": "https://localhost:8080/"
        },
        "id": "k_M3Lecxyq-A",
        "outputId": "ec2fabf1-4899-48d3-e168-dde94e9de449"
      },
      "execution_count": null,
      "outputs": [
        {
          "output_type": "stream",
          "name": "stdout",
          "text": [
            "Requirement already satisfied: sentence_transformers in /usr/local/lib/python3.10/dist-packages (3.2.1)\n",
            "Requirement already satisfied: transformers<5.0.0,>=4.41.0 in /usr/local/lib/python3.10/dist-packages (from sentence_transformers) (4.46.3)\n",
            "Requirement already satisfied: tqdm in /usr/local/lib/python3.10/dist-packages (from sentence_transformers) (4.66.6)\n",
            "Requirement already satisfied: torch>=1.11.0 in /usr/local/lib/python3.10/dist-packages (from sentence_transformers) (2.5.1+cu121)\n",
            "Requirement already satisfied: scikit-learn in /usr/local/lib/python3.10/dist-packages (from sentence_transformers) (1.5.2)\n",
            "Requirement already satisfied: scipy in /usr/local/lib/python3.10/dist-packages (from sentence_transformers) (1.13.1)\n",
            "Requirement already satisfied: huggingface-hub>=0.20.0 in /usr/local/lib/python3.10/dist-packages (from sentence_transformers) (0.26.5)\n",
            "Requirement already satisfied: Pillow in /usr/local/lib/python3.10/dist-packages (from sentence_transformers) (11.0.0)\n",
            "Requirement already satisfied: filelock in /usr/local/lib/python3.10/dist-packages (from huggingface-hub>=0.20.0->sentence_transformers) (3.16.1)\n",
            "Requirement already satisfied: fsspec>=2023.5.0 in /usr/local/lib/python3.10/dist-packages (from huggingface-hub>=0.20.0->sentence_transformers) (2024.10.0)\n",
            "Requirement already satisfied: packaging>=20.9 in /usr/local/lib/python3.10/dist-packages (from huggingface-hub>=0.20.0->sentence_transformers) (24.2)\n",
            "Requirement already satisfied: pyyaml>=5.1 in /usr/local/lib/python3.10/dist-packages (from huggingface-hub>=0.20.0->sentence_transformers) (6.0.2)\n",
            "Requirement already satisfied: requests in /usr/local/lib/python3.10/dist-packages (from huggingface-hub>=0.20.0->sentence_transformers) (2.32.3)\n",
            "Requirement already satisfied: typing-extensions>=3.7.4.3 in /usr/local/lib/python3.10/dist-packages (from huggingface-hub>=0.20.0->sentence_transformers) (4.12.2)\n",
            "Requirement already satisfied: networkx in /usr/local/lib/python3.10/dist-packages (from torch>=1.11.0->sentence_transformers) (3.4.2)\n",
            "Requirement already satisfied: jinja2 in /usr/local/lib/python3.10/dist-packages (from torch>=1.11.0->sentence_transformers) (3.1.4)\n",
            "Requirement already satisfied: sympy==1.13.1 in /usr/local/lib/python3.10/dist-packages (from torch>=1.11.0->sentence_transformers) (1.13.1)\n",
            "Requirement already satisfied: mpmath<1.4,>=1.1.0 in /usr/local/lib/python3.10/dist-packages (from sympy==1.13.1->torch>=1.11.0->sentence_transformers) (1.3.0)\n",
            "Requirement already satisfied: numpy>=1.17 in /usr/local/lib/python3.10/dist-packages (from transformers<5.0.0,>=4.41.0->sentence_transformers) (1.26.4)\n",
            "Requirement already satisfied: regex!=2019.12.17 in /usr/local/lib/python3.10/dist-packages (from transformers<5.0.0,>=4.41.0->sentence_transformers) (2024.9.11)\n",
            "Requirement already satisfied: tokenizers<0.21,>=0.20 in /usr/local/lib/python3.10/dist-packages (from transformers<5.0.0,>=4.41.0->sentence_transformers) (0.20.3)\n",
            "Requirement already satisfied: safetensors>=0.4.1 in /usr/local/lib/python3.10/dist-packages (from transformers<5.0.0,>=4.41.0->sentence_transformers) (0.4.5)\n",
            "Requirement already satisfied: joblib>=1.2.0 in /usr/local/lib/python3.10/dist-packages (from scikit-learn->sentence_transformers) (1.4.2)\n",
            "Requirement already satisfied: threadpoolctl>=3.1.0 in /usr/local/lib/python3.10/dist-packages (from scikit-learn->sentence_transformers) (3.5.0)\n",
            "Requirement already satisfied: MarkupSafe>=2.0 in /usr/local/lib/python3.10/dist-packages (from jinja2->torch>=1.11.0->sentence_transformers) (3.0.2)\n",
            "Requirement already satisfied: charset-normalizer<4,>=2 in /usr/local/lib/python3.10/dist-packages (from requests->huggingface-hub>=0.20.0->sentence_transformers) (3.4.0)\n",
            "Requirement already satisfied: idna<4,>=2.5 in /usr/local/lib/python3.10/dist-packages (from requests->huggingface-hub>=0.20.0->sentence_transformers) (3.10)\n",
            "Requirement already satisfied: urllib3<3,>=1.21.1 in /usr/local/lib/python3.10/dist-packages (from requests->huggingface-hub>=0.20.0->sentence_transformers) (2.2.3)\n",
            "Requirement already satisfied: certifi>=2017.4.17 in /usr/local/lib/python3.10/dist-packages (from requests->huggingface-hub>=0.20.0->sentence_transformers) (2024.8.30)\n"
          ]
        }
      ]
    },
    {
      "cell_type": "code",
      "source": [
        "!pip install llama-index"
      ],
      "metadata": {
        "colab": {
          "base_uri": "https://localhost:8080/"
        },
        "id": "mQJ19sJmzCoa",
        "outputId": "6c0ba768-fc6d-4409-d4d4-ca86df632406"
      },
      "execution_count": null,
      "outputs": [
        {
          "output_type": "stream",
          "name": "stdout",
          "text": [
            "Requirement already satisfied: llama-index in /usr/local/lib/python3.10/dist-packages (0.12.6)\n",
            "Requirement already satisfied: llama-index-agent-openai<0.5.0,>=0.4.0 in /usr/local/lib/python3.10/dist-packages (from llama-index) (0.4.0)\n",
            "Requirement already satisfied: llama-index-cli<0.5.0,>=0.4.0 in /usr/local/lib/python3.10/dist-packages (from llama-index) (0.4.0)\n",
            "Requirement already satisfied: llama-index-core<0.13.0,>=0.12.6 in /usr/local/lib/python3.10/dist-packages (from llama-index) (0.12.6)\n",
            "Requirement already satisfied: llama-index-embeddings-openai<0.4.0,>=0.3.0 in /usr/local/lib/python3.10/dist-packages (from llama-index) (0.3.1)\n",
            "Requirement already satisfied: llama-index-indices-managed-llama-cloud>=0.4.0 in /usr/local/lib/python3.10/dist-packages (from llama-index) (0.6.3)\n",
            "Requirement already satisfied: llama-index-llms-openai<0.4.0,>=0.3.0 in /usr/local/lib/python3.10/dist-packages (from llama-index) (0.3.11)\n",
            "Requirement already satisfied: llama-index-multi-modal-llms-openai<0.5.0,>=0.4.0 in /usr/local/lib/python3.10/dist-packages (from llama-index) (0.4.1)\n",
            "Requirement already satisfied: llama-index-program-openai<0.4.0,>=0.3.0 in /usr/local/lib/python3.10/dist-packages (from llama-index) (0.3.1)\n",
            "Requirement already satisfied: llama-index-question-gen-openai<0.4.0,>=0.3.0 in /usr/local/lib/python3.10/dist-packages (from llama-index) (0.3.0)\n",
            "Requirement already satisfied: llama-index-readers-file<0.5.0,>=0.4.0 in /usr/local/lib/python3.10/dist-packages (from llama-index) (0.4.1)\n",
            "Requirement already satisfied: llama-index-readers-llama-parse>=0.4.0 in /usr/local/lib/python3.10/dist-packages (from llama-index) (0.4.0)\n",
            "Requirement already satisfied: nltk>3.8.1 in /usr/local/lib/python3.10/dist-packages (from llama-index) (3.9.1)\n",
            "Requirement already satisfied: openai>=1.14.0 in /usr/local/lib/python3.10/dist-packages (from llama-index-agent-openai<0.5.0,>=0.4.0->llama-index) (1.58.1)\n",
            "Requirement already satisfied: PyYAML>=6.0.1 in /usr/local/lib/python3.10/dist-packages (from llama-index-core<0.13.0,>=0.12.6->llama-index) (6.0.2)\n",
            "Requirement already satisfied: SQLAlchemy>=1.4.49 in /usr/local/lib/python3.10/dist-packages (from SQLAlchemy[asyncio]>=1.4.49->llama-index-core<0.13.0,>=0.12.6->llama-index) (2.0.36)\n",
            "Requirement already satisfied: aiohttp<4.0.0,>=3.8.6 in /usr/local/lib/python3.10/dist-packages (from llama-index-core<0.13.0,>=0.12.6->llama-index) (3.11.10)\n",
            "Requirement already satisfied: dataclasses-json in /usr/local/lib/python3.10/dist-packages (from llama-index-core<0.13.0,>=0.12.6->llama-index) (0.6.7)\n",
            "Requirement already satisfied: deprecated>=1.2.9.3 in /usr/local/lib/python3.10/dist-packages (from llama-index-core<0.13.0,>=0.12.6->llama-index) (1.2.15)\n",
            "Requirement already satisfied: dirtyjson<2.0.0,>=1.0.8 in /usr/local/lib/python3.10/dist-packages (from llama-index-core<0.13.0,>=0.12.6->llama-index) (1.0.8)\n",
            "Requirement already satisfied: filetype<2.0.0,>=1.2.0 in /usr/local/lib/python3.10/dist-packages (from llama-index-core<0.13.0,>=0.12.6->llama-index) (1.2.0)\n",
            "Requirement already satisfied: fsspec>=2023.5.0 in /usr/local/lib/python3.10/dist-packages (from llama-index-core<0.13.0,>=0.12.6->llama-index) (2024.10.0)\n",
            "Requirement already satisfied: httpx in /usr/local/lib/python3.10/dist-packages (from llama-index-core<0.13.0,>=0.12.6->llama-index) (0.28.1)\n",
            "Requirement already satisfied: nest-asyncio<2.0.0,>=1.5.8 in /usr/local/lib/python3.10/dist-packages (from llama-index-core<0.13.0,>=0.12.6->llama-index) (1.6.0)\n",
            "Requirement already satisfied: networkx>=3.0 in /usr/local/lib/python3.10/dist-packages (from llama-index-core<0.13.0,>=0.12.6->llama-index) (3.4.2)\n",
            "Requirement already satisfied: numpy in /usr/local/lib/python3.10/dist-packages (from llama-index-core<0.13.0,>=0.12.6->llama-index) (1.26.4)\n",
            "Requirement already satisfied: pillow>=9.0.0 in /usr/local/lib/python3.10/dist-packages (from llama-index-core<0.13.0,>=0.12.6->llama-index) (11.0.0)\n",
            "Requirement already satisfied: pydantic>=2.8.0 in /usr/local/lib/python3.10/dist-packages (from llama-index-core<0.13.0,>=0.12.6->llama-index) (2.10.3)\n",
            "Requirement already satisfied: requests>=2.31.0 in /usr/local/lib/python3.10/dist-packages (from llama-index-core<0.13.0,>=0.12.6->llama-index) (2.32.3)\n",
            "Requirement already satisfied: tenacity!=8.4.0,<10.0.0,>=8.2.0 in /usr/local/lib/python3.10/dist-packages (from llama-index-core<0.13.0,>=0.12.6->llama-index) (9.0.0)\n",
            "Requirement already satisfied: tiktoken>=0.3.3 in /usr/local/lib/python3.10/dist-packages (from llama-index-core<0.13.0,>=0.12.6->llama-index) (0.8.0)\n",
            "Requirement already satisfied: tqdm<5.0.0,>=4.66.1 in /usr/local/lib/python3.10/dist-packages (from llama-index-core<0.13.0,>=0.12.6->llama-index) (4.66.6)\n",
            "Requirement already satisfied: typing-extensions>=4.5.0 in /usr/local/lib/python3.10/dist-packages (from llama-index-core<0.13.0,>=0.12.6->llama-index) (4.12.2)\n",
            "Requirement already satisfied: typing-inspect>=0.8.0 in /usr/local/lib/python3.10/dist-packages (from llama-index-core<0.13.0,>=0.12.6->llama-index) (0.9.0)\n",
            "Requirement already satisfied: wrapt in /usr/local/lib/python3.10/dist-packages (from llama-index-core<0.13.0,>=0.12.6->llama-index) (1.17.0)\n",
            "Requirement already satisfied: llama-cloud>=0.1.5 in /usr/local/lib/python3.10/dist-packages (from llama-index-indices-managed-llama-cloud>=0.4.0->llama-index) (0.1.6)\n",
            "Requirement already satisfied: beautifulsoup4<5.0.0,>=4.12.3 in /usr/local/lib/python3.10/dist-packages (from llama-index-readers-file<0.5.0,>=0.4.0->llama-index) (4.12.3)\n",
            "Requirement already satisfied: pandas in /usr/local/lib/python3.10/dist-packages (from llama-index-readers-file<0.5.0,>=0.4.0->llama-index) (2.2.2)\n",
            "Requirement already satisfied: pypdf<6.0.0,>=5.1.0 in /usr/local/lib/python3.10/dist-packages (from llama-index-readers-file<0.5.0,>=0.4.0->llama-index) (5.1.0)\n",
            "Requirement already satisfied: striprtf<0.0.27,>=0.0.26 in /usr/local/lib/python3.10/dist-packages (from llama-index-readers-file<0.5.0,>=0.4.0->llama-index) (0.0.26)\n",
            "Requirement already satisfied: llama-parse>=0.5.0 in /usr/local/lib/python3.10/dist-packages (from llama-index-readers-llama-parse>=0.4.0->llama-index) (0.5.17)\n",
            "Requirement already satisfied: click in /usr/local/lib/python3.10/dist-packages (from nltk>3.8.1->llama-index) (8.1.7)\n",
            "Requirement already satisfied: joblib in /usr/local/lib/python3.10/dist-packages (from nltk>3.8.1->llama-index) (1.4.2)\n",
            "Requirement already satisfied: regex>=2021.8.3 in /usr/local/lib/python3.10/dist-packages (from nltk>3.8.1->llama-index) (2024.9.11)\n",
            "Requirement already satisfied: aiohappyeyeballs>=2.3.0 in /usr/local/lib/python3.10/dist-packages (from aiohttp<4.0.0,>=3.8.6->llama-index-core<0.13.0,>=0.12.6->llama-index) (2.4.4)\n",
            "Requirement already satisfied: aiosignal>=1.1.2 in /usr/local/lib/python3.10/dist-packages (from aiohttp<4.0.0,>=3.8.6->llama-index-core<0.13.0,>=0.12.6->llama-index) (1.3.2)\n",
            "Requirement already satisfied: async-timeout<6.0,>=4.0 in /usr/local/lib/python3.10/dist-packages (from aiohttp<4.0.0,>=3.8.6->llama-index-core<0.13.0,>=0.12.6->llama-index) (4.0.3)\n",
            "Requirement already satisfied: attrs>=17.3.0 in /usr/local/lib/python3.10/dist-packages (from aiohttp<4.0.0,>=3.8.6->llama-index-core<0.13.0,>=0.12.6->llama-index) (24.2.0)\n",
            "Requirement already satisfied: frozenlist>=1.1.1 in /usr/local/lib/python3.10/dist-packages (from aiohttp<4.0.0,>=3.8.6->llama-index-core<0.13.0,>=0.12.6->llama-index) (1.5.0)\n",
            "Requirement already satisfied: multidict<7.0,>=4.5 in /usr/local/lib/python3.10/dist-packages (from aiohttp<4.0.0,>=3.8.6->llama-index-core<0.13.0,>=0.12.6->llama-index) (6.1.0)\n",
            "Requirement already satisfied: propcache>=0.2.0 in /usr/local/lib/python3.10/dist-packages (from aiohttp<4.0.0,>=3.8.6->llama-index-core<0.13.0,>=0.12.6->llama-index) (0.2.1)\n",
            "Requirement already satisfied: yarl<2.0,>=1.17.0 in /usr/local/lib/python3.10/dist-packages (from aiohttp<4.0.0,>=3.8.6->llama-index-core<0.13.0,>=0.12.6->llama-index) (1.18.3)\n",
            "Requirement already satisfied: soupsieve>1.2 in /usr/local/lib/python3.10/dist-packages (from beautifulsoup4<5.0.0,>=4.12.3->llama-index-readers-file<0.5.0,>=0.4.0->llama-index) (2.6)\n",
            "Requirement already satisfied: anyio in /usr/local/lib/python3.10/dist-packages (from httpx->llama-index-core<0.13.0,>=0.12.6->llama-index) (3.7.1)\n",
            "Requirement already satisfied: certifi in /usr/local/lib/python3.10/dist-packages (from httpx->llama-index-core<0.13.0,>=0.12.6->llama-index) (2024.8.30)\n",
            "Requirement already satisfied: httpcore==1.* in /usr/local/lib/python3.10/dist-packages (from httpx->llama-index-core<0.13.0,>=0.12.6->llama-index) (1.0.7)\n",
            "Requirement already satisfied: idna in /usr/local/lib/python3.10/dist-packages (from httpx->llama-index-core<0.13.0,>=0.12.6->llama-index) (3.10)\n",
            "Requirement already satisfied: h11<0.15,>=0.13 in /usr/local/lib/python3.10/dist-packages (from httpcore==1.*->httpx->llama-index-core<0.13.0,>=0.12.6->llama-index) (0.14.0)\n",
            "Requirement already satisfied: distro<2,>=1.7.0 in /usr/local/lib/python3.10/dist-packages (from openai>=1.14.0->llama-index-agent-openai<0.5.0,>=0.4.0->llama-index) (1.9.0)\n",
            "Requirement already satisfied: jiter<1,>=0.4.0 in /usr/local/lib/python3.10/dist-packages (from openai>=1.14.0->llama-index-agent-openai<0.5.0,>=0.4.0->llama-index) (0.8.2)\n",
            "Requirement already satisfied: sniffio in /usr/local/lib/python3.10/dist-packages (from openai>=1.14.0->llama-index-agent-openai<0.5.0,>=0.4.0->llama-index) (1.3.1)\n",
            "Requirement already satisfied: annotated-types>=0.6.0 in /usr/local/lib/python3.10/dist-packages (from pydantic>=2.8.0->llama-index-core<0.13.0,>=0.12.6->llama-index) (0.7.0)\n",
            "Requirement already satisfied: pydantic-core==2.27.1 in /usr/local/lib/python3.10/dist-packages (from pydantic>=2.8.0->llama-index-core<0.13.0,>=0.12.6->llama-index) (2.27.1)\n",
            "Requirement already satisfied: charset-normalizer<4,>=2 in /usr/local/lib/python3.10/dist-packages (from requests>=2.31.0->llama-index-core<0.13.0,>=0.12.6->llama-index) (3.4.0)\n",
            "Requirement already satisfied: urllib3<3,>=1.21.1 in /usr/local/lib/python3.10/dist-packages (from requests>=2.31.0->llama-index-core<0.13.0,>=0.12.6->llama-index) (2.2.3)\n",
            "Requirement already satisfied: greenlet!=0.4.17 in /usr/local/lib/python3.10/dist-packages (from SQLAlchemy>=1.4.49->SQLAlchemy[asyncio]>=1.4.49->llama-index-core<0.13.0,>=0.12.6->llama-index) (3.1.1)\n",
            "Requirement already satisfied: mypy-extensions>=0.3.0 in /usr/local/lib/python3.10/dist-packages (from typing-inspect>=0.8.0->llama-index-core<0.13.0,>=0.12.6->llama-index) (1.0.0)\n",
            "Requirement already satisfied: marshmallow<4.0.0,>=3.18.0 in /usr/local/lib/python3.10/dist-packages (from dataclasses-json->llama-index-core<0.13.0,>=0.12.6->llama-index) (3.23.1)\n",
            "Requirement already satisfied: python-dateutil>=2.8.2 in /usr/local/lib/python3.10/dist-packages (from pandas->llama-index-readers-file<0.5.0,>=0.4.0->llama-index) (2.8.2)\n",
            "Requirement already satisfied: pytz>=2020.1 in /usr/local/lib/python3.10/dist-packages (from pandas->llama-index-readers-file<0.5.0,>=0.4.0->llama-index) (2024.2)\n",
            "Requirement already satisfied: tzdata>=2022.7 in /usr/local/lib/python3.10/dist-packages (from pandas->llama-index-readers-file<0.5.0,>=0.4.0->llama-index) (2024.2)\n",
            "Requirement already satisfied: exceptiongroup in /usr/local/lib/python3.10/dist-packages (from anyio->httpx->llama-index-core<0.13.0,>=0.12.6->llama-index) (1.2.2)\n",
            "Requirement already satisfied: packaging>=17.0 in /usr/local/lib/python3.10/dist-packages (from marshmallow<4.0.0,>=3.18.0->dataclasses-json->llama-index-core<0.13.0,>=0.12.6->llama-index) (24.2)\n",
            "Requirement already satisfied: six>=1.5 in /usr/local/lib/python3.10/dist-packages (from python-dateutil>=2.8.2->pandas->llama-index-readers-file<0.5.0,>=0.4.0->llama-index) (1.17.0)\n"
          ]
        }
      ]
    },
    {
      "cell_type": "code",
      "source": [
        "from llama_index.core import VectorStoreIndex, SimpleDirectoryReader, ServiceContext\n",
        "from llama_index.core.llms import ChatMessage\n",
        "from llama_index.core.prompts.prompts import SimpleInputPrompt"
      ],
      "metadata": {
        "id": "VoZUQyqUzQ-X"
      },
      "execution_count": null,
      "outputs": []
    },
    {
      "cell_type": "code",
      "source": [
        "documents = SimpleDirectoryReader(\"/content/data\").load_data()\n",
        "documents"
      ],
      "metadata": {
        "collapsed": true,
        "colab": {
          "base_uri": "https://localhost:8080/"
        },
        "id": "IpzruRw_2CC9",
        "outputId": "d0801b3a-4841-4496-9311-861f2b7c095e"
      },
      "execution_count": null,
      "outputs": [
        {
          "output_type": "execute_result",
          "data": {
            "text/plain": [
              "[Document(id_='d5191d32-3280-42f5-96de-14b3e6da1379', embedding=None, metadata={'page_label': '1', 'file_name': 'Synthesis_of_Chitosin_Chlorin_e6_conjugate_2.pdf', 'file_path': '/content/data/Synthesis_of_Chitosin_Chlorin_e6_conjugate_2.pdf', 'file_type': 'application/pdf', 'file_size': 1230494, 'creation_date': '2024-12-18', 'last_modified_date': '2024-12-18'}, excluded_embed_metadata_keys=['file_name', 'file_type', 'file_size', 'creation_date', 'last_modified_date', 'last_accessed_date'], excluded_llm_metadata_keys=['file_name', 'file_type', 'file_size', 'creation_date', 'last_modified_date', 'last_accessed_date'], relationships={}, metadata_template='{key}: {value}', metadata_separator='\\n', text_resource=MediaResource(embeddings=None, data=None, text='Indian Institute of Technology Guwahati\\nQuick Submit\\nQuick Submit\\nDey\\nSayan Sarkar\\nDocument Details\\nSubmission ID\\ntrn:oid:::1:3078924115\\nSubmission Date\\nNov 14, 2024, 2:57 PM GMT+5:30\\nDownload Date\\nNov 14, 2024, 3:05 PM GMT+5:30\\nFile Name\\nSynthesis_of_Chitosin_Chlorin_e6_conjugate_2.docx\\nFile Size\\n800.2 KB\\n24 Pages\\n3,288 Words\\n19,134 Characters\\nPage 1 of 27 - Cover Page\\nSubmission ID trn:oid:::1:3078924115\\nPage 1 of 27 - Cover Page\\nSubmission ID trn:oid:::1:3078924115\\n', mimetype=None, path=None, url=None), image_resource=None, audio_resource=None, video_resource=None, text_template='{metadata_str}\\n\\n{content}'),\n",
              " Document(id_='0eab0529-e286-4df5-8a4b-301af22d2c2e', embedding=None, metadata={'page_label': '2', 'file_name': 'Synthesis_of_Chitosin_Chlorin_e6_conjugate_2.pdf', 'file_path': '/content/data/Synthesis_of_Chitosin_Chlorin_e6_conjugate_2.pdf', 'file_type': 'application/pdf', 'file_size': 1230494, 'creation_date': '2024-12-18', 'last_modified_date': '2024-12-18'}, excluded_embed_metadata_keys=['file_name', 'file_type', 'file_size', 'creation_date', 'last_modified_date', 'last_accessed_date'], excluded_llm_metadata_keys=['file_name', 'file_type', 'file_size', 'creation_date', 'last_modified_date', 'last_accessed_date'], relationships={}, metadata_template='{key}: {value}', metadata_separator='\\n', text_resource=MediaResource(embeddings=None, data=None, text=\"7% Overall Similarity\\nThe combined total of all matches, including overlapping sources, for each database.\\nMatch Groups\\n13\\nNot Cited or Quoted 4%\\nMatches with neither in-text citation nor quotation marks\\n5\\nMissing Quotations 1%\\nMatches that are still very similar to source material\\n4\\nMissing Citation 1%\\nMatches that have quotation marks, but no in-text citation\\n2\\nCited and Quoted 1%\\nMatches with in-text citation present, but no quotation marks\\nTop Sources\\n3%\\nInternet sources\\n7%\\nPublications\\n0%\\nSubmitted works (Student Papers)\\nIntegrity Flags\\n0 Integrity Flags for Review\\nNo suspicious text manipulations found.\\nOur system's algorithms look deeply at a document for any inconsistencies that \\nwould set it apart from a normal submission. If we notice something strange, we flag \\nit for you to review.\\nA Flag is not necessarily an indicator of a problem. However, we'd recommend you \\nfocus your attention there for further review.\\nPage 2 of 27 - Integrity Overview\\nSubmission ID trn:oid:::1:3078924115\\nPage 2 of 27 - Integrity Overview\\nSubmission ID trn:oid:::1:3078924115\\n\", mimetype=None, path=None, url=None), image_resource=None, audio_resource=None, video_resource=None, text_template='{metadata_str}\\n\\n{content}'),\n",
              " Document(id_='5fc99b6d-1b39-461b-b980-e79f661d1d76', embedding=None, metadata={'page_label': '3', 'file_name': 'Synthesis_of_Chitosin_Chlorin_e6_conjugate_2.pdf', 'file_path': '/content/data/Synthesis_of_Chitosin_Chlorin_e6_conjugate_2.pdf', 'file_type': 'application/pdf', 'file_size': 1230494, 'creation_date': '2024-12-18', 'last_modified_date': '2024-12-18'}, excluded_embed_metadata_keys=['file_name', 'file_type', 'file_size', 'creation_date', 'last_modified_date', 'last_accessed_date'], excluded_llm_metadata_keys=['file_name', 'file_type', 'file_size', 'creation_date', 'last_modified_date', 'last_accessed_date'], relationships={}, metadata_template='{key}: {value}', metadata_separator='\\n', text_resource=MediaResource(embeddings=None, data=None, text='Match Groups\\n13\\nNot Cited or Quoted 4%\\nMatches with neither in-text citation nor quotation marks\\n5\\nMissing Quotations 1%\\nMatches that are still very similar to source material\\n4\\nMissing Citation 1%\\nMatches that have quotation marks, but no in-text citation\\n2\\nCited and Quoted 1%\\nMatches with in-text citation present, but no quotation marks\\nTop Sources\\n3%\\nInternet sources\\n7%\\nPublications\\n0%\\nSubmitted works (Student Papers)\\nTop Sources\\nThe sources with the highest number of matches within the submission. Overlapping sources will not be displayed.\\n1\\nPublication\\nLin Yue, Meihong Zheng, Imran Mahmood Khan, Zhouping Wang. \"Chlorin e6 con…\\n3%\\n2\\nPublication\\nAnindita Bhatta, Ganesan Krishnamoorthy, Nidhin Marimuthu, Anjum Dihingia et…\\n1%\\n3\\nInternet\\nkrishikosh.egranth.ac.in\\n1%\\n4\\nInternet\\ndspace2.creighton.edu\\n0%\\n5\\nPublication\\nWei Yan, Dai‐Wen Pang, Sheng‐Fu Wang, Yuan‐Di Zhao. \"Carbon Nanomaterials—…\\n0%\\n6\\nInternet\\nnizetlab.ucsd.edu\\n0%\\n7\\nInternet\\nwww.mdpi.com\\n0%\\n8\\nPublication\\nVahedi, Vahdat, Pooria Pasbakhsh, and Siang-Piao Chai. \"SURFACE MODIFICATIO…\\n0%\\n9\\nInternet\\nrepositorium.sdum.uminho.pt\\n0%\\n10\\nPublication\\nSylvain Espinasse, Josette Chaufaux, Christophe Buisson, St�phane Perchat, Mic…\\n0%\\nPage 3 of 27 - Integrity Overview\\nSubmission ID trn:oid:::1:3078924115\\nPage 3 of 27 - Integrity Overview\\nSubmission ID trn:oid:::1:3078924115\\n', mimetype=None, path=None, url=None), image_resource=None, audio_resource=None, video_resource=None, text_template='{metadata_str}\\n\\n{content}'),\n",
              " Document(id_='90f8ca94-d99f-4e2b-8e0a-906b234a137b', embedding=None, metadata={'page_label': '4', 'file_name': 'Synthesis_of_Chitosin_Chlorin_e6_conjugate_2.pdf', 'file_path': '/content/data/Synthesis_of_Chitosin_Chlorin_e6_conjugate_2.pdf', 'file_type': 'application/pdf', 'file_size': 1230494, 'creation_date': '2024-12-18', 'last_modified_date': '2024-12-18'}, excluded_embed_metadata_keys=['file_name', 'file_type', 'file_size', 'creation_date', 'last_modified_date', 'last_accessed_date'], excluded_llm_metadata_keys=['file_name', 'file_type', 'file_size', 'creation_date', 'last_modified_date', 'last_accessed_date'], relationships={}, metadata_template='{key}: {value}', metadata_separator='\\n', text_resource=MediaResource(embeddings=None, data=None, text='0 \\n \\n \\n \\n \\n \\n \\n \\n \\n \\n \\n \\n \\n \\n \\n \\n \\n \\n \\n  \\nPage 4 of 27 - Integrity Submission\\nSubmission ID trn:oid:::1:3078924115\\nPage 4 of 27 - Integrity Submission\\nSubmission ID trn:oid:::1:3078924115\\n', mimetype=None, path=None, url=None), image_resource=None, audio_resource=None, video_resource=None, text_template='{metadata_str}\\n\\n{content}'),\n",
              " Document(id_='1a795eec-3dde-436f-8433-88828efd35ae', embedding=None, metadata={'page_label': '5', 'file_name': 'Synthesis_of_Chitosin_Chlorin_e6_conjugate_2.pdf', 'file_path': '/content/data/Synthesis_of_Chitosin_Chlorin_e6_conjugate_2.pdf', 'file_type': 'application/pdf', 'file_size': 1230494, 'creation_date': '2024-12-18', 'last_modified_date': '2024-12-18'}, excluded_embed_metadata_keys=['file_name', 'file_type', 'file_size', 'creation_date', 'last_modified_date', 'last_accessed_date'], excluded_llm_metadata_keys=['file_name', 'file_type', 'file_size', 'creation_date', 'last_modified_date', 'last_accessed_date'], relationships={}, metadata_template='{key}: {value}', metadata_separator='\\n', text_resource=MediaResource(embeddings=None, data=None, text='1 \\n \\nABSTRACT \\n \\nDeveloping a smart photosensitizer conjugated scaffold with fine biocompatible and \\nregenerable is highly desirable for biomedical applications and can be used for \\nrestoring tissues . In this  project, a cationic polymer of chitosan oligosaccharide \\n(CSO) was conjugated with chlorine e6 (Ce6) with the aim of constructing a novel \\nscaffold. The sample conjugates of Chitosan-Chlorin e6(CSO -Ce6) were \\nsynthesized by amide reaction and cha racterized by a various physic o-chemical \\ntechniques like, FT-IR, H-NMR, absorption and emission spectra, etc . Chlorin-e6 \\ndecorated nanoparticles have similar absorption spetcra to those of free Chlorin-e6 \\nshowing that Chlorin-e6 chromophore does not change upon conjugation.  \\nThese findings highlight that  the conjugate of CSO-Ce6 has the potential to be \\nhaving a  strong photodynamic effect  for smart drug delivery vehicles and tissue \\nengineering scaffo ld.  The future of smart photoresponsive polymers and \\nbiomaterials requires research development in different areas of biomedical \\napplications. \\n  \\nPage 5 of 27 - Integrity Submission\\nSubmission ID trn:oid:::1:3078924115\\nPage 5 of 27 - Integrity Submission\\nSubmission ID trn:oid:::1:3078924115\\n', mimetype=None, path=None, url=None), image_resource=None, audio_resource=None, video_resource=None, text_template='{metadata_str}\\n\\n{content}'),\n",
              " Document(id_='3594a928-2cc0-40a6-9b8d-84a4227a80dd', embedding=None, metadata={'page_label': '6', 'file_name': 'Synthesis_of_Chitosin_Chlorin_e6_conjugate_2.pdf', 'file_path': '/content/data/Synthesis_of_Chitosin_Chlorin_e6_conjugate_2.pdf', 'file_type': 'application/pdf', 'file_size': 1230494, 'creation_date': '2024-12-18', 'last_modified_date': '2024-12-18'}, excluded_embed_metadata_keys=['file_name', 'file_type', 'file_size', 'creation_date', 'last_modified_date', 'last_accessed_date'], excluded_llm_metadata_keys=['file_name', 'file_type', 'file_size', 'creation_date', 'last_modified_date', 'last_accessed_date'], relationships={}, metadata_template='{key}: {value}', metadata_separator='\\n', text_resource=MediaResource(embeddings=None, data=None, text='2 \\n \\nINTRODUCTION \\n \\nSynthetic and biopolymers are examples of smart stimuli -responsive polymers \\nthat may exhibit significant changes in both their chemical and physical \\ncharacteristics in response to internal or external chemical or physical stimuli like \\nlight, pH, temperature, etc. Because changes in their immediate surroundings might \\nalter their behavior, they are the focus of a great deal of research. (Kost et al., 2009, \\nBertrand and Gohy, 2017, Gul et 2012). \\nWhen exposed to a light stimulus, photo responsive  polymers change their \\ncharacteristics. Light may control a number of molecular characteristics, including \\ncharge, optical chirality, conjugation, conformation, polarity, and amphiphilicity. \\nMacroscopic changes in material characteristics, including form ( i.e., bending  or \\ncontraction), wettability, solubility, and other physical properties  are caused by the \\nlight-induced molecular change. (“Cui and Del Campo, 2014 , Jin et al., 2023 ” and \\n“Liu et al., 2024”). \\nIn short, photo responsive polymers can translate a light stimulus into tangible \\nchanges in their material (physical) properties, thus enabling potential applications \\nin various fields like soft robotics, biomedicine, and smart coatings. The  way in \\nwhich they respond to light provides a precise and reversible way to control material \\nbehavior in real-time. (Dai et al., 2011, Yao et al., 2015). \\n \\nPage 6 of 27 - Integrity Submission\\nSubmission ID trn:oid:::1:3078924115\\nPage 6 of 27 - Integrity Submission\\nSubmission ID trn:oid:::1:3078924115\\n', mimetype=None, path=None, url=None), image_resource=None, audio_resource=None, video_resource=None, text_template='{metadata_str}\\n\\n{content}'),\n",
              " Document(id_='14d61619-cf0c-4d57-86f1-bce357555757', embedding=None, metadata={'page_label': '7', 'file_name': 'Synthesis_of_Chitosin_Chlorin_e6_conjugate_2.pdf', 'file_path': '/content/data/Synthesis_of_Chitosin_Chlorin_e6_conjugate_2.pdf', 'file_type': 'application/pdf', 'file_size': 1230494, 'creation_date': '2024-12-18', 'last_modified_date': '2024-12-18'}, excluded_embed_metadata_keys=['file_name', 'file_type', 'file_size', 'creation_date', 'last_modified_date', 'last_accessed_date'], excluded_llm_metadata_keys=['file_name', 'file_type', 'file_size', 'creation_date', 'last_modified_date', 'last_accessed_date'], relationships={}, metadata_template='{key}: {value}', metadata_separator='\\n', text_resource=MediaResource(embeddings=None, data=None, text='3 \\n \\n \\nFigure 1. Schematic of Development and Characterization of Photo \\nresponsive Polymers \\nCompared to other stimuli employed in polymer chemistry, light -control offers \\ninherent benefits. The first and most significant is that photoinitiation causes \\nprocesses that cannot happen energetically on realistic timelines at room temperature \\nto happen q uickly. Thus, chemical reaction processes  are readily triggered by \\nirradiation and subsequent absorption, a process illustrated by the Jablonski diagram, \\nwhich depicts the various radiative and non -radiative transitions that molecules \\nundergo upon absorbin g light. In the Jablonski diagram, molecule transitions to \\nexcited state from its ground state  upon absorption of photon. It may then release \\nenergy through  various means such as  fluorescence, phosphorescence, or non -\\nradiative relaxation pathways. This understanding of molecular transitions underpins \\nlight-controlled reactions and it highlights how photonic energy is used for chemical \\ntransformations.  \\n \\n \\nPage 7 of 27 - Integrity Submission\\nSubmission ID trn:oid:::1:3078924115\\nPage 7 of 27 - Integrity Submission\\nSubmission ID trn:oid:::1:3078924115\\n', mimetype=None, path=None, url=None), image_resource=None, audio_resource=None, video_resource=None, text_template='{metadata_str}\\n\\n{content}'),\n",
              " Document(id_='2ed76cfe-b654-47ee-b780-8fe5a7505a0b', embedding=None, metadata={'page_label': '8', 'file_name': 'Synthesis_of_Chitosin_Chlorin_e6_conjugate_2.pdf', 'file_path': '/content/data/Synthesis_of_Chitosin_Chlorin_e6_conjugate_2.pdf', 'file_type': 'application/pdf', 'file_size': 1230494, 'creation_date': '2024-12-18', 'last_modified_date': '2024-12-18'}, excluded_embed_metadata_keys=['file_name', 'file_type', 'file_size', 'creation_date', 'last_modified_date', 'last_accessed_date'], excluded_llm_metadata_keys=['file_name', 'file_type', 'file_size', 'creation_date', 'last_modified_date', 'last_accessed_date'], relationships={}, metadata_template='{key}: {value}', metadata_separator='\\n', text_resource=MediaResource(embeddings=None, data=None, text='4 \\n \\n \\nFurthermore, \"turning on a light\" is all it takes to start a photochemical reaction; \\nsevere environmental conditions, solvents, or hazardous substances are typically not \\nneeded. The strength of the reaction may be readily adjusted by varying the \\nirradiation parameters, including light intensity, wavelength, and irradiation time. \\nLastly, light-management enables precise spatial resolution: a dimensional response \\ncontrol may be achieved using basic masking or patterned lighting. (Chatani et al \\n2014).   \\n \\n \\nFigure 2. Jablonski Diagram \\n \\nTo create photo -responsive polymers, a chromophore, or light -sensitive \\nfunctional group, must be incorporated into the polymer chain. The resulting reaction \\ncan be either reversible or irreversible. It  completely depends upon which type of \\nchromophore has been used. For applications such as actuators and artificial muscles \\nreversible systems are particularly valuable , as they allow the material to switch \\nbetween two stable states in response to light, thus altering its properties. \\nPage 8 of 27 - Integrity Submission\\nSubmission ID trn:oid:::1:3078924115\\nPage 8 of 27 - Integrity Submission\\nSubmission ID trn:oid:::1:3078924115\\n', mimetype=None, path=None, url=None), image_resource=None, audio_resource=None, video_resource=None, text_template='{metadata_str}\\n\\n{content}'),\n",
              " Document(id_='51250761-9a35-4ec9-884e-b8317dbf881c', embedding=None, metadata={'page_label': '9', 'file_name': 'Synthesis_of_Chitosin_Chlorin_e6_conjugate_2.pdf', 'file_path': '/content/data/Synthesis_of_Chitosin_Chlorin_e6_conjugate_2.pdf', 'file_type': 'application/pdf', 'file_size': 1230494, 'creation_date': '2024-12-18', 'last_modified_date': '2024-12-18'}, excluded_embed_metadata_keys=['file_name', 'file_type', 'file_size', 'creation_date', 'last_modified_date', 'last_accessed_date'], excluded_llm_metadata_keys=['file_name', 'file_type', 'file_size', 'creation_date', 'last_modified_date', 'last_accessed_date'], relationships={}, metadata_template='{key}: {value}', metadata_separator='\\n', text_resource=MediaResource(embeddings=None, data=None, text='5 \\n \\nThe primary characteristic of irreversible chromophores is their photo \\ncleavability, which makes them useful for regulated drug administration and \\nphotodegradable materials. (“Cui and Del Campo, 2014”).  \\nIn recent years, chitosan, a positively charged polymer made up of units of (1-\\n4)-β-linked d -glucosamine (GlcN)  and N-acetyl-d-glucosamine (GlcNAc) , has \\nattracted significant interest in the field of bio  medical research.  Chitosan has \\nexcellent compatibility with biological tissues and can be easily deg raded and \\nabsorbed by the body, because of this it is widely used for chemical applications.  \\nMinimally invasive techniques used in tissue regeneration, advanced wound care, \\nand targeted therapeutic delivery  are some of the applications . Enhanced \\nbiomaterials could potentially extend the effects of treatments by facilitating \\ncontrolled release of medications or stem cells within the extracellular matrix, \\nthereby supporting the local cellular environment.  Photo responsive materials with \\ndeep penetration, low phototoxicity, and excitation and emission at the NIR range \\nare ideal for producing high -quality in vivo tracking pictures. (“Muzzarelli et al., \\n2009”, “Hill et al., 2009”, “Zhao et al., 2013”, “Ali et al., 2014”, “Rajendran et al., \\n2019”). \\n  \\nChitosan          Chlorin e6 \\nFigure 3. Structure of chitosan oligosaccharides (CSO) and Chlorin e6 (Ce6)  \\nFurthermore, when combined with delivery capabilities, these polymeric \\nmaterials with multimode imaging show promise for offering greater perceptions in \\n2\\n3\\nPage 9 of 27 - Integrity Submission\\nSubmission ID trn:oid:::1:3078924115\\nPage 9 of 27 - Integrity Submission\\nSubmission ID trn:oid:::1:3078924115\\n', mimetype=None, path=None, url=None), image_resource=None, audio_resource=None, video_resource=None, text_template='{metadata_str}\\n\\n{content}'),\n",
              " Document(id_='8c734cea-93eb-4e2a-a092-4b52b469fadf', embedding=None, metadata={'page_label': '10', 'file_name': 'Synthesis_of_Chitosin_Chlorin_e6_conjugate_2.pdf', 'file_path': '/content/data/Synthesis_of_Chitosin_Chlorin_e6_conjugate_2.pdf', 'file_type': 'application/pdf', 'file_size': 1230494, 'creation_date': '2024-12-18', 'last_modified_date': '2024-12-18'}, excluded_embed_metadata_keys=['file_name', 'file_type', 'file_size', 'creation_date', 'last_modified_date', 'last_accessed_date'], excluded_llm_metadata_keys=['file_name', 'file_type', 'file_size', 'creation_date', 'last_modified_date', 'last_accessed_date'], relationships={}, metadata_template='{key}: {value}', metadata_separator='\\n', text_resource=MediaResource(embeddings=None, data=None, text='6 \\n \\nthe drug delivery method, resulting in the creation of more intricately customized, \\nlogical materials. These resources could also explain the benefits of both invasive \\nand non-invasive in-situ drug delivery. (“Yang et al., 2022”)  \\nA particular kind of photosensitizer called Ce6 has a higher tumor cytotoxicity \\npotency, stronger absorption at longer wavelengths, and less adverse effects.  \\n(“Henderson et al., 1990 ”, “Liu et al., 2010 ”, “Pereira et al., 2015 ”, “Dai et al., \\n2011”, “Li et al., 2007”, “Verma et al., 2024”,” Krishnamoorthy et al 2019”).  \\nAdditionally, Ce6 maintains the required properties to produce singlet oxygen. \\nInvasive and non-invasive methods both could be used to administer these external \\nstimuli. \\n \\n \\n \\n \\n \\n \\n \\n \\n \\n \\n \\n \\n \\n \\n \\n3\\nPage 10 of 27 - Integrity Submission\\nSubmission ID trn:oid:::1:3078924115\\nPage 10 of 27 - Integrity Submission\\nSubmission ID trn:oid:::1:3078924115\\n', mimetype=None, path=None, url=None), image_resource=None, audio_resource=None, video_resource=None, text_template='{metadata_str}\\n\\n{content}'),\n",
              " Document(id_='69082fbd-6f24-41c7-9d31-85309ba3ec8e', embedding=None, metadata={'page_label': '11', 'file_name': 'Synthesis_of_Chitosin_Chlorin_e6_conjugate_2.pdf', 'file_path': '/content/data/Synthesis_of_Chitosin_Chlorin_e6_conjugate_2.pdf', 'file_type': 'application/pdf', 'file_size': 1230494, 'creation_date': '2024-12-18', 'last_modified_date': '2024-12-18'}, excluded_embed_metadata_keys=['file_name', 'file_type', 'file_size', 'creation_date', 'last_modified_date', 'last_accessed_date'], excluded_llm_metadata_keys=['file_name', 'file_type', 'file_size', 'creation_date', 'last_modified_date', 'last_accessed_date'], relationships={}, metadata_template='{key}: {value}', metadata_separator='\\n', text_resource=MediaResource(embeddings=None, data=None, text='7 \\n \\nOBJECTIVE OF THE PROJECT  \\n \\nIn this project, we are attempting to introduce a novel photodynamic agent for \\nsmart drug delivery and tissue engineering applications. \\nWe have synthesized CSO-Ce6 conjugate by amide reaction using EDC/NHS \\nand characterized their optical and structural properties  by FT-IR, 1H NMR and \\nabsorption and emission spectra, etc. \\nThe prepared CS O-Ce6 conjugates can become a useful photodynamic smart \\ndrug delivery agent and can largely expand the ranges of biomedical applications. \\n \\n \\n \\n \\n \\n \\n \\n \\n \\n \\n \\n \\n \\n \\n \\n \\n \\n \\nPage 11 of 27 - Integrity Submission\\nSubmission ID trn:oid:::1:3078924115\\nPage 11 of 27 - Integrity Submission\\nSubmission ID trn:oid:::1:3078924115\\n', mimetype=None, path=None, url=None), image_resource=None, audio_resource=None, video_resource=None, text_template='{metadata_str}\\n\\n{content}'),\n",
              " Document(id_='44995d24-7678-4faf-931c-526b4ab553fc', embedding=None, metadata={'page_label': '12', 'file_name': 'Synthesis_of_Chitosin_Chlorin_e6_conjugate_2.pdf', 'file_path': '/content/data/Synthesis_of_Chitosin_Chlorin_e6_conjugate_2.pdf', 'file_type': 'application/pdf', 'file_size': 1230494, 'creation_date': '2024-12-18', 'last_modified_date': '2024-12-18'}, excluded_embed_metadata_keys=['file_name', 'file_type', 'file_size', 'creation_date', 'last_modified_date', 'last_accessed_date'], excluded_llm_metadata_keys=['file_name', 'file_type', 'file_size', 'creation_date', 'last_modified_date', 'last_accessed_date'], relationships={}, metadata_template='{key}: {value}', metadata_separator='\\n', text_resource=MediaResource(embeddings=None, data=None, text='8 \\n \\nMATERIALS AND METHODS \\n \\n5.1. Chemicals and Stock Solutions \\nChemicals used:  \\n\\uf0b7 Chitosan oligosaccharide (CSO) (C12H24N2O9) (87% DDA, Mw< 3000 \\nDa),  \\n\\uf0b7 Chlorin e6 (Ce6),  \\n\\uf0b7 1- Ethyl- 3- (3- dimethylaminopropyl) carbodiimide (EDC), \\n\\uf0b7 N- Hydroxy succinimide (NHS) \\nAll the fore-mentioned chemicals were acquired  from Sisco Research \\nLaboratories Pvt. Ltd., and Sigma-Aldrich.  \\n \\nStock solutions: \\n\\uf0b7 1% (v/v) Acetic acid Soln. (CH3COOH) \\n\\uf0b7 1% (w/v) Sodium Hydroxide Soln. (NaOH) \\nI have prepared, 1% Acetic acid (1  ml of acetic acid in 99 ml of double-\\ndistilled(DD) water), 1% NaOH (0.1g of NaOH in 10 ml of double-distilled(DD) \\nwater), chitosan oligosaccharide (CSO) solution (1.2 mg CS/1.2 ml of 1% (v/v) \\nacetic acid (pH 6)), EDC/NHS (EDC (0.55 mg) and NHS (0.66 mg) in 0.5 mL \\nMES buffer), Ce6 (Ce6 (0.14 mg) in 0.5 mL DMSO, Ce6 (0.28 mg) in 0.5 mL \\nDMSO) for this work.  \\n \\n5.2. Synthesis of conjugates of CSO-Ce6 \\n\\uf0b7 The sample conjugates of chitosan oligosaccharide (CSO)-chlorin-e6(Ce6) \\nwere made using EDC/NHS as shown  in the schematic representation in \\nfigure 4.  \\n5\\n4\\n9\\n1\\n10\\nPage 12 of 27 - Integrity Submission\\nSubmission ID trn:oid:::1:3078924115\\nPage 12 of 27 - Integrity Submission\\nSubmission ID trn:oid:::1:3078924115\\n', mimetype=None, path=None, url=None), image_resource=None, audio_resource=None, video_resource=None, text_template='{metadata_str}\\n\\n{content}'),\n",
              " Document(id_='fb0b5f8d-e6ee-4a05-b709-38911ee18339', embedding=None, metadata={'page_label': '13', 'file_name': 'Synthesis_of_Chitosin_Chlorin_e6_conjugate_2.pdf', 'file_path': '/content/data/Synthesis_of_Chitosin_Chlorin_e6_conjugate_2.pdf', 'file_type': 'application/pdf', 'file_size': 1230494, 'creation_date': '2024-12-18', 'last_modified_date': '2024-12-18'}, excluded_embed_metadata_keys=['file_name', 'file_type', 'file_size', 'creation_date', 'last_modified_date', 'last_accessed_date'], excluded_llm_metadata_keys=['file_name', 'file_type', 'file_size', 'creation_date', 'last_modified_date', 'last_accessed_date'], relationships={}, metadata_template='{key}: {value}', metadata_separator='\\n', text_resource=MediaResource(embeddings=None, data=None, text='9 \\n \\n\\uf0b7 Initially, CSO (1.2 mg) was dissolved in 1.2 mL 1% (v/v) glacial acetic acid. \\nThe prepared CSO solution’s pH was brought down to about 6.0 using the \\n1%(w/v) solution of NaOH which was added drop by drop.  \\n\\uf0b7 In the next step, 0.55 mg EDC and 0.66mg NHS samples were dissolved in \\na buffer solution (0.05 mL MES).  \\n\\uf0b7 For carboxyl group activation of Ce6, the photosensitizer (Chlorin -e6) \\nsamples (0.14 mg and 0.28 mg) were mixed in 0.05 mL of DMSO, followed \\nby the addition of the EDC/NHS solution. The mixture was then stirred for \\nfour hours in unilluminated condition at room temperature. \\n\\uf0b7 The activated solutions were then added to the CSO solution drop by drop. \\n\\uf0b7  Now to remove NHS, EDC and the portion of Ce6 which did not react, the \\ncombinations were stirred for 24 hours (dark, Room Temperature), and then \\nthe resultant solutions were centrifuged for 10 minutes at 10,000 rpm.   \\n\\uf0b7  The UV-vis spectra in DMSO exhibited no Ce6 signal indications after \\ncentrifugation. \\n \\n5.3. Characterization of Ce6 conjugated CSO: \\nCharacterization of the synthesized CS O-Ce6 conjugates is crucial for  \\nunderstanding the structure -property relationships, which determine the \\nperformance of the conjugates in biomedical applications, and it also helps \\nin safety, quality control and reproducibility . Various physicochemical \\ncharacterization techniques can be employed for this purpose. \\n \\n5.3.1. Absorbance and emission spectra analysis \\nThe CSO-Ce6 conjugates were quantified through UV -Vis’s absorbance \\nmeasurements. To determine the Ce6 content within the CSO, a The \\n1\\nPage 13 of 27 - Integrity Submission\\nSubmission ID trn:oid:::1:3078924115\\nPage 13 of 27 - Integrity Submission\\nSubmission ID trn:oid:::1:3078924115\\n', mimetype=None, path=None, url=None), image_resource=None, audio_resource=None, video_resource=None, text_template='{metadata_str}\\n\\n{content}'),\n",
              " Document(id_='bbe86328-e88d-4e64-be2c-b12e20210a7c', embedding=None, metadata={'page_label': '14', 'file_name': 'Synthesis_of_Chitosin_Chlorin_e6_conjugate_2.pdf', 'file_path': '/content/data/Synthesis_of_Chitosin_Chlorin_e6_conjugate_2.pdf', 'file_type': 'application/pdf', 'file_size': 1230494, 'creation_date': '2024-12-18', 'last_modified_date': '2024-12-18'}, excluded_embed_metadata_keys=['file_name', 'file_type', 'file_size', 'creation_date', 'last_modified_date', 'last_accessed_date'], excluded_llm_metadata_keys=['file_name', 'file_type', 'file_size', 'creation_date', 'last_modified_date', 'last_accessed_date'], relationships={}, metadata_template='{key}: {value}', metadata_separator='\\n', text_resource=MediaResource(embeddings=None, data=None, text='10 \\n \\nPerkinElmer Lambda 750 spectrophotometer was used in this procedure. \\nTo prepare a clear solution, a 1:10 mixture of dimethyl sulfoxide (DMSO) \\nand water was added to the CSO -Ce6 mixture. To determine the \\nconcentration of Ce6, absorbance measurements were taken at a \\nwavelength of 405 nm. This value was  then compared against a standard \\ncurve that was obtained using free Ce6 in the same DMSO/water solvent \\nmixture. \\nThe quantity of Ce6 within the CSO was further analyzed using \\nemission spectroscopy (via the Jobin Yvon Spex Fluoromax  4). For the \\nCSO-Ce6 sample dissolved in DMSO/water, emission spectra across the \\nrange of 550–800 nm, and excitation spectra from 300–650 nm were \\nrecorded, with measurements taken at 1 nm intervals. These results were \\nthen compared to spectra from a free Ce6 solution. \\n \\n5.3.2. FT-IR analysis \\nA PerkinElmer FTIR spectrometer was used to obtain the FT-IR spectra of \\ndried powder samples of CSO, Ce6, and CSO -Ce6. An average of fifty \\nscans was used to record the infrared spectra. With a resolution of 4 cm -1, \\nall spectra were captured between 400 and 4000 cm-1. \\n \\n5.3.3. Analysis by proton-NMR \\nH-NMR spectra were received on a 400 MHz NMR (Bruker A V ANCE \\nNEO NMR SPECT). CSO, Ce6 and CSO -Ce6 conjugates were dissolved \\nin 1% (v/v) solution of DCl in D 2O as an internal standard. Ce6 was \\ndissolved in DMSO d6 as an internal standard. \\n2\\n1\\n1\\n1\\n8\\nPage 14 of 27 - Integrity Submission\\nSubmission ID trn:oid:::1:3078924115\\nPage 14 of 27 - Integrity Submission\\nSubmission ID trn:oid:::1:3078924115\\n', mimetype=None, path=None, url=None), image_resource=None, audio_resource=None, video_resource=None, text_template='{metadata_str}\\n\\n{content}'),\n",
              " Document(id_='67f693f6-efd7-4145-91ac-a26773b5c2ff', embedding=None, metadata={'page_label': '15', 'file_name': 'Synthesis_of_Chitosin_Chlorin_e6_conjugate_2.pdf', 'file_path': '/content/data/Synthesis_of_Chitosin_Chlorin_e6_conjugate_2.pdf', 'file_type': 'application/pdf', 'file_size': 1230494, 'creation_date': '2024-12-18', 'last_modified_date': '2024-12-18'}, excluded_embed_metadata_keys=['file_name', 'file_type', 'file_size', 'creation_date', 'last_modified_date', 'last_accessed_date'], excluded_llm_metadata_keys=['file_name', 'file_type', 'file_size', 'creation_date', 'last_modified_date', 'last_accessed_date'], relationships={}, metadata_template='{key}: {value}', metadata_separator='\\n', text_resource=MediaResource(embeddings=None, data=None, text='11 \\n \\n5.3.4. Analysis by Matrix Assisted Laser Desorption/Ionization (MALDI) \\nMALDI-TOF-MS (BRUKER, AUTOFLEX SPEED) was used to investigate \\nthe molecular weights of CSO, Ce6, and CSO-Ce6. To create a clear \\nsolution, the CSO-Ce6 was mixed with a chloroform/water (1:10 ratio) \\nsolution. \\n \\n \\n \\n \\n \\n \\n \\n \\n \\n \\n \\n \\n \\n \\n \\n \\n \\n6\\nPage 15 of 27 - Integrity Submission\\nSubmission ID trn:oid:::1:3078924115\\nPage 15 of 27 - Integrity Submission\\nSubmission ID trn:oid:::1:3078924115\\n', mimetype=None, path=None, url=None), image_resource=None, audio_resource=None, video_resource=None, text_template='{metadata_str}\\n\\n{content}'),\n",
              " Document(id_='549f77b0-9b3f-411f-830f-6ab7a64f1348', embedding=None, metadata={'page_label': '16', 'file_name': 'Synthesis_of_Chitosin_Chlorin_e6_conjugate_2.pdf', 'file_path': '/content/data/Synthesis_of_Chitosin_Chlorin_e6_conjugate_2.pdf', 'file_type': 'application/pdf', 'file_size': 1230494, 'creation_date': '2024-12-18', 'last_modified_date': '2024-12-18'}, excluded_embed_metadata_keys=['file_name', 'file_type', 'file_size', 'creation_date', 'last_modified_date', 'last_accessed_date'], excluded_llm_metadata_keys=['file_name', 'file_type', 'file_size', 'creation_date', 'last_modified_date', 'last_accessed_date'], relationships={}, metadata_template='{key}: {value}', metadata_separator='\\n', text_resource=MediaResource(embeddings=None, data=None, text='12 \\n \\nRESULTS AND DISCUSSION  \\n \\nAll the above experiments and characterizations have been repeated three times, \\nand the data is expressed as mean standard deviation \\n  \\nConjugates of CSO-Ce6 were synthesized by amide reaction \\nThe CSO-Ce6 conjugate is synthesized using EDC/NHS cross-linking method \\nand were confirmed by various physico-chemical characterization techniques \\nmethod. The below figure 4 shows the schematic of CSO-Ce6 conjugates . The \\nconjugation of CSO with Ce6 was attained using the EDC/NHS coupling and is \\nwidely used for covalent conjugation between carboxyl groups of Ce6 and amine \\ngroups of CSO, which allows for the formation of a stable amide bond. This process \\nensures efficient conjugation without compromising the photosensitizing \\ncapabilities of Ce6 or the biocompatibility of CSO. \\n \\n \\nFigure 4. Schematic representation of synthesis of CSO-Ce6 conjugate \\nPage 16 of 27 - Integrity Submission\\nSubmission ID trn:oid:::1:3078924115\\nPage 16 of 27 - Integrity Submission\\nSubmission ID trn:oid:::1:3078924115\\n', mimetype=None, path=None, url=None), image_resource=None, audio_resource=None, video_resource=None, text_template='{metadata_str}\\n\\n{content}'),\n",
              " Document(id_='11b8a57b-4fb9-4a9d-99bc-1a51e3a1f842', embedding=None, metadata={'page_label': '17', 'file_name': 'Synthesis_of_Chitosin_Chlorin_e6_conjugate_2.pdf', 'file_path': '/content/data/Synthesis_of_Chitosin_Chlorin_e6_conjugate_2.pdf', 'file_type': 'application/pdf', 'file_size': 1230494, 'creation_date': '2024-12-18', 'last_modified_date': '2024-12-18'}, excluded_embed_metadata_keys=['file_name', 'file_type', 'file_size', 'creation_date', 'last_modified_date', 'last_accessed_date'], excluded_llm_metadata_keys=['file_name', 'file_type', 'file_size', 'creation_date', 'last_modified_date', 'last_accessed_date'], relationships={}, metadata_template='{key}: {value}', metadata_separator='\\n', text_resource=MediaResource(embeddings=None, data=None, text='13 \\n \\n \\n \\n6.1. Absorbance spectra \\n UV-Vis spectral analysis is useful for assessing the absorption characteristics \\nof the CSO-Ce6 conjugates. Chlorin-e6 generally exhibit absorption peaks in the red \\nregion, and after conjugation the  studying of these peaks can verify the successful \\nattachment of C hlorin-e6 to chitosan. In the UV -Visible spectrometer  absorption \\nspectra of C hlorin-e6 (Figure 5), 404 nm  with respect to S band  and 502 nm, 531 \\nnm, 609 nm, and 664 nm  with respect to Q bands  have been  seen with similar \\nabsorption features being also seen in the CSO -Ce6 spectra, though the S and Q \\nbands showed a slight red shift  in this case . This shift could be because of  the \\nquenching effect occurring after the incorporation of Ce6 into chitosan \\noligosaccharides. \\n \\n \\nFigure 5. UV–Vis spectral analysis of free Ce6 and CSO-Ce6s.  \\n1\\n1\\nPage 17 of 27 - Integrity Submission\\nSubmission ID trn:oid:::1:3078924115\\nPage 17 of 27 - Integrity Submission\\nSubmission ID trn:oid:::1:3078924115\\n', mimetype=None, path=None, url=None), image_resource=None, audio_resource=None, video_resource=None, text_template='{metadata_str}\\n\\n{content}'),\n",
              " Document(id_='95c17008-5780-48d3-89b8-c8d60efb912f', embedding=None, metadata={'page_label': '18', 'file_name': 'Synthesis_of_Chitosin_Chlorin_e6_conjugate_2.pdf', 'file_path': '/content/data/Synthesis_of_Chitosin_Chlorin_e6_conjugate_2.pdf', 'file_type': 'application/pdf', 'file_size': 1230494, 'creation_date': '2024-12-18', 'last_modified_date': '2024-12-18'}, excluded_embed_metadata_keys=['file_name', 'file_type', 'file_size', 'creation_date', 'last_modified_date', 'last_accessed_date'], excluded_llm_metadata_keys=['file_name', 'file_type', 'file_size', 'creation_date', 'last_modified_date', 'last_accessed_date'], relationships={}, metadata_template='{key}: {value}', metadata_separator='\\n', text_resource=MediaResource(embeddings=None, data=None, text='14 \\n \\n \\n \\n \\n6.2. Emission Spectra \\n Fluorescence spectroscopy is a  useful technique by which we can investigate  \\nthe photophysical properties of the sample conjugates of CSO-Ce6. With the help of \\nfluorescence emission spectrum of C hlorin-e6 we can study its photodynamic \\nactivity after conjugation. Figure 6 shows the spectra of aqueous dispersions of free \\nChlorin-e6(left) and the two samples of CSO-Ce6(right). Both show a similar max \\nemission around 675 nm. However, the fluorescence intensity of CSO-Ce6 is lower \\ncompared to free C hlorin-e6, likely due to concentration quenching which results \\nfrom the self -aggregation compounds (non-polar). Additionally, no shift in the Q \\nband was observed. \\n \\n      \\n \\nFigure 6. Fluorescence emission spectral analyses of free Ce6 and CSO-Ce6.  \\n \\n \\n2\\nPage 18 of 27 - Integrity Submission\\nSubmission ID trn:oid:::1:3078924115\\nPage 18 of 27 - Integrity Submission\\nSubmission ID trn:oid:::1:3078924115\\n', mimetype=None, path=None, url=None), image_resource=None, audio_resource=None, video_resource=None, text_template='{metadata_str}\\n\\n{content}'),\n",
              " Document(id_='aa7ba079-4590-45ae-a050-dd431e7bafe4', embedding=None, metadata={'page_label': '19', 'file_name': 'Synthesis_of_Chitosin_Chlorin_e6_conjugate_2.pdf', 'file_path': '/content/data/Synthesis_of_Chitosin_Chlorin_e6_conjugate_2.pdf', 'file_type': 'application/pdf', 'file_size': 1230494, 'creation_date': '2024-12-18', 'last_modified_date': '2024-12-18'}, excluded_embed_metadata_keys=['file_name', 'file_type', 'file_size', 'creation_date', 'last_modified_date', 'last_accessed_date'], excluded_llm_metadata_keys=['file_name', 'file_type', 'file_size', 'creation_date', 'last_modified_date', 'last_accessed_date'], relationships={}, metadata_template='{key}: {value}', metadata_separator='\\n', text_resource=MediaResource(embeddings=None, data=None, text='15 \\n \\n6.3. FT-IR analysis \\n Below f igure 7 displays FT-IR spectra of CS O, C hlorin-e6 and CS O-Ce6 \\nconjugates.  This spectrum is used to identify functional groups in the CS O-Ce6 \\nconjugates, especially the amide bond formed during the EDC/NHS coupling \\nreaction. The presence of characteristic peaks corresponding to the amide bond and \\nother functional groups in CSO and Ce6 confirms successful conjugation. \\n \\nCSO \\n \\n \\nCe6 \\nPage 19 of 27 - Integrity Submission\\nSubmission ID trn:oid:::1:3078924115\\nPage 19 of 27 - Integrity Submission\\nSubmission ID trn:oid:::1:3078924115\\n', mimetype=None, path=None, url=None), image_resource=None, audio_resource=None, video_resource=None, text_template='{metadata_str}\\n\\n{content}'),\n",
              " Document(id_='0837863f-824c-40ad-9405-5bab4bbd46b6', embedding=None, metadata={'page_label': '20', 'file_name': 'Synthesis_of_Chitosin_Chlorin_e6_conjugate_2.pdf', 'file_path': '/content/data/Synthesis_of_Chitosin_Chlorin_e6_conjugate_2.pdf', 'file_type': 'application/pdf', 'file_size': 1230494, 'creation_date': '2024-12-18', 'last_modified_date': '2024-12-18'}, excluded_embed_metadata_keys=['file_name', 'file_type', 'file_size', 'creation_date', 'last_modified_date', 'last_accessed_date'], excluded_llm_metadata_keys=['file_name', 'file_type', 'file_size', 'creation_date', 'last_modified_date', 'last_accessed_date'], relationships={}, metadata_template='{key}: {value}', metadata_separator='\\n', text_resource=MediaResource(embeddings=None, data=None, text='16 \\n \\n \\nCSO-Ce6 \\n \\nFigure 7. FT-IR spectral analysis of CSO, free Ce6 and CSO-Ce6. \\n \\n In IR spectrum of CSO, the broad band at 3431 cm ⁻¹ was attributed to the \\nstretching of O-H and N -H bond, while 2923 cm ⁻¹ band corresponded to the C -H \\nstretching vibrations. A peak close to 1383 cm⁻¹ was assigned to the C -H vibration \\nof CH ₃ groups. CSO also showed a typical peak at 1626 cm ⁻¹, linked with the  \\nstretching vibration (amide I)  of C-O, and a peak at 1095 cm ⁻¹, indicating CO \\nstretching. In the IR spectrum of Ce6,  stretching vibrations of  C=O and C -O in             \\n(-COOH) group were responsible for the bands a t 1704 cm ⁻¹ and 1597 cm ⁻¹, \\nrespectively. Additionally, bands lower than 1500 cm⁻¹ were attributed to vibrations \\nor deformations of the chlorin ring. \\n IR spectrum of the  conjugates of  CSO-Ce6 showed absorption patterns like \\nthose of Chitosan-oligosaccharide (CSO). However, the absorption band for CO in \\nthe CSO-Ce6 conjugates shifted to a higher frequency compared to CSO, likely due \\nto the interaction between Ce6 and the CSO structure. As the degree of substitution \\n(DS) of the CSO -Ce6 conjugates increased, the inte nsities of the band of CO near \\n1626cm⁻¹ and the band of C-H near 1383 cm⁻¹ also increased, indicating that amide \\nbonds have been formed and Ce6 has been successfully incorporated. Additionally, \\n1\\n1\\n1\\n1\\n7\\nPage 20 of 27 - Integrity Submission\\nSubmission ID trn:oid:::1:3078924115\\nPage 20 of 27 - Integrity Submission\\nSubmission ID trn:oid:::1:3078924115\\n', mimetype=None, path=None, url=None), image_resource=None, audio_resource=None, video_resource=None, text_template='{metadata_str}\\n\\n{content}'),\n",
              " Document(id_='c9fb5238-fcad-4f7b-b56d-232a94359961', embedding=None, metadata={'page_label': '21', 'file_name': 'Synthesis_of_Chitosin_Chlorin_e6_conjugate_2.pdf', 'file_path': '/content/data/Synthesis_of_Chitosin_Chlorin_e6_conjugate_2.pdf', 'file_type': 'application/pdf', 'file_size': 1230494, 'creation_date': '2024-12-18', 'last_modified_date': '2024-12-18'}, excluded_embed_metadata_keys=['file_name', 'file_type', 'file_size', 'creation_date', 'last_modified_date', 'last_accessed_date'], excluded_llm_metadata_keys=['file_name', 'file_type', 'file_size', 'creation_date', 'last_modified_date', 'last_accessed_date'], relationships={}, metadata_template='{key}: {value}', metadata_separator='\\n', text_resource=MediaResource(embeddings=None, data=None, text=\"17 \\n \\nCSO-Ce6 conjugates displayed characteristic bands at 1400 cm ⁻¹ and 730 cm ⁻¹, \\nwhich are associated with the chlorin ring. \\n \\n6.4. H-NMR analysis \\n An effective method for determining the proton  kinds is called the H-NMR \\nspectrum. Figure 8 displayed the CSO, Ce6, and CSO -Ce6 conjugates' H -NMR \\nspectra. In the proton NMR spectrum of CSO, the peaks at 4.55 ppm and 2.83 ppm \\nare assigned to  H2 and H1 protons of the monomer  which has been deacetylated , \\ncorrespondingly. The glucosamine ring of CSO exhibits characteristic proton signals \\naround 3.40 ppm and 3.55 ppm, which are typical for the protons on this sugar \\nstructure. These peaks are indicative of the polymer backbone and provide a clear \\nreference for the structure of the CSO before conjugation. \\n When examining the H-NMR spectrum of the CSO-Ce6 conjugates, new peaks \\ncorresponding to Ce6 are observed. It can be noticed that these peaks shift to higher \\nfields as compared to those in the free C hlorin-e6, suggesting  that there is  an \\ninteraction between Chlorin-e6 and the CSO backbone. This shift is generally due to \\nchanges in the electronic environment of the protons due to the process  of \\nconjugation. The movement of these peaks to the high -field region generally \\nindicates successful conjugation, as it shows alterations in the proton shielding \\ncaused by the formation of covalent bonds between CSO and Ce6. \\n In short, the peak positions’ changes and the new peaks’ appearance in the H-\\nNMR spectra confirm the successful conjugation of Chlorin-e6 to CSO. The spectra \\nboth provide evidence for the structural integrity of CSO after conjugation and \\nhighlight the chemical interactions that occur between the Chitosan Oligosaccharide \\n(CSO) and Ce6. This analysis is a n important step in verifying the synthesis of the \\nCSO-Ce6 conjugates. \\n \\n1\\nPage 21 of 27 - Integrity Submission\\nSubmission ID trn:oid:::1:3078924115\\nPage 21 of 27 - Integrity Submission\\nSubmission ID trn:oid:::1:3078924115\\n\", mimetype=None, path=None, url=None), image_resource=None, audio_resource=None, video_resource=None, text_template='{metadata_str}\\n\\n{content}'),\n",
              " Document(id_='9b0b6339-bf8f-4551-b648-e02324f1183c', embedding=None, metadata={'page_label': '22', 'file_name': 'Synthesis_of_Chitosin_Chlorin_e6_conjugate_2.pdf', 'file_path': '/content/data/Synthesis_of_Chitosin_Chlorin_e6_conjugate_2.pdf', 'file_type': 'application/pdf', 'file_size': 1230494, 'creation_date': '2024-12-18', 'last_modified_date': '2024-12-18'}, excluded_embed_metadata_keys=['file_name', 'file_type', 'file_size', 'creation_date', 'last_modified_date', 'last_accessed_date'], excluded_llm_metadata_keys=['file_name', 'file_type', 'file_size', 'creation_date', 'last_modified_date', 'last_accessed_date'], relationships={}, metadata_template='{key}: {value}', metadata_separator='\\n', text_resource=MediaResource(embeddings=None, data=None, text='18 \\n \\n \\nCSO \\n \\n \\nCe6 \\n \\n \\nCSO-Ce6 \\nFigure 8. H-NMR spectra of CSO, free Chlorin-e6 and CSO-Ce6 \\n \\nPage 22 of 27 - Integrity Submission\\nSubmission ID trn:oid:::1:3078924115\\nPage 22 of 27 - Integrity Submission\\nSubmission ID trn:oid:::1:3078924115\\n', mimetype=None, path=None, url=None), image_resource=None, audio_resource=None, video_resource=None, text_template='{metadata_str}\\n\\n{content}'),\n",
              " Document(id_='fb208c4f-bed1-459f-8d2c-2354b8494bf3', embedding=None, metadata={'page_label': '23', 'file_name': 'Synthesis_of_Chitosin_Chlorin_e6_conjugate_2.pdf', 'file_path': '/content/data/Synthesis_of_Chitosin_Chlorin_e6_conjugate_2.pdf', 'file_type': 'application/pdf', 'file_size': 1230494, 'creation_date': '2024-12-18', 'last_modified_date': '2024-12-18'}, excluded_embed_metadata_keys=['file_name', 'file_type', 'file_size', 'creation_date', 'last_modified_date', 'last_accessed_date'], excluded_llm_metadata_keys=['file_name', 'file_type', 'file_size', 'creation_date', 'last_modified_date', 'last_accessed_date'], relationships={}, metadata_template='{key}: {value}', metadata_separator='\\n', text_resource=MediaResource(embeddings=None, data=None, text='19 \\n \\n6.5. MALDI-TOF MS Analysis \\n CSO and CSO-Ce6 conjugates were successfully characterized using \\nMALDI-TOF-MS. There are molecular weights changes slightly in the CSO after \\nconjugation with Ce6 are shown in figure 9.  The covalent conjugation between \\nCSO and Ce6 was achieved by formation of amide bond formed by amino groups \\nin CSO and carboxyl groups in Ce6. These results, characteristic ion peaks \\n339.123, 453.919 and 508.756 changes, strongly suggested the formation of the \\nCSO-Ce6 conjugates. \\n \\nCSO \\n \\n \\nCSO-Ce6 \\nFigure 9. MALDI-spectral analysis of CSO and CSO-Ce6. \\n \\nPage 23 of 27 - Integrity Submission\\nSubmission ID trn:oid:::1:3078924115\\nPage 23 of 27 - Integrity Submission\\nSubmission ID trn:oid:::1:3078924115\\n', mimetype=None, path=None, url=None), image_resource=None, audio_resource=None, video_resource=None, text_template='{metadata_str}\\n\\n{content}'),\n",
              " Document(id_='c0b3a368-4c3c-4e8d-9206-e5d0eefd71fe', embedding=None, metadata={'page_label': '24', 'file_name': 'Synthesis_of_Chitosin_Chlorin_e6_conjugate_2.pdf', 'file_path': '/content/data/Synthesis_of_Chitosin_Chlorin_e6_conjugate_2.pdf', 'file_type': 'application/pdf', 'file_size': 1230494, 'creation_date': '2024-12-18', 'last_modified_date': '2024-12-18'}, excluded_embed_metadata_keys=['file_name', 'file_type', 'file_size', 'creation_date', 'last_modified_date', 'last_accessed_date'], excluded_llm_metadata_keys=['file_name', 'file_type', 'file_size', 'creation_date', 'last_modified_date', 'last_accessed_date'], relationships={}, metadata_template='{key}: {value}', metadata_separator='\\n', text_resource=MediaResource(embeddings=None, data=None, text='20 \\n \\nDISCUSSION \\n \\n7.1. Applications of CSO-Ce6 Conjugated Scaffolds: \\n The CSO-Ce6 conjugated scaffolds developed in this study offer a wide range \\nof potential applications in biomedical fields: \\n\\uf0b7 Photodynamic Therapy for Cancer: The conjugated scaffold can be used for \\nlocalized cancer treatment, whe re Ce6 activates ROS production under light \\nexposure, effectively killing cancer cells. The biocompatible chitosan scaffold \\nprovides structural support and can potentially promote tissue regeneration \\npost-treatment. \\n\\uf0b7 Tissue Engineering: In tissue engineering, CSO-Ce6 scaffolds can be used to \\nconstruct regenerative tissues, where the photosensitizer component can be \\nactivated to control infection or enhance cell proliferation. \\n\\uf0b7 Antimicrobial Applications: CS O-Ce6 conjugates can also be applied in \\nantimicrobial therapy, where the photodynamic effect can be used to destroy \\nmicrobial biofilms on tissues or surfaces. \\n The synthesis and characterization of photosensitizer-coated chitosan thin films \\nshows significant progress in the biomedical engineering  field. The conjugation of \\nCe6 with chitosan offers a multifunctional platform for photodynamic therapy (PDT) \\nand tissue engineering. Further research to optimize these conjugates and to explore \\ntheir full potential can be able to lead to innovative treatments for  curing cancer or \\nsome other infectious diseases, and develop regenerative medicine. \\n \\n7.2. Chlorin-e6 (Ce6) and its Potential in PDT: \\n Chlorin-e6 (Ce6)  derived from chlorophyll is a  second-generation \\nphotosensitizer which targets deep -seated tissues more effectively because of its \\nPage 24 of 27 - Integrity Submission\\nSubmission ID trn:oid:::1:3078924115\\nPage 24 of 27 - Integrity Submission\\nSubmission ID trn:oid:::1:3078924115\\n', mimetype=None, path=None, url=None), image_resource=None, audio_resource=None, video_resource=None, text_template='{metadata_str}\\n\\n{content}'),\n",
              " Document(id_='51fdf3ff-dd87-4638-994f-3d0405ee9c1c', embedding=None, metadata={'page_label': '25', 'file_name': 'Synthesis_of_Chitosin_Chlorin_e6_conjugate_2.pdf', 'file_path': '/content/data/Synthesis_of_Chitosin_Chlorin_e6_conjugate_2.pdf', 'file_type': 'application/pdf', 'file_size': 1230494, 'creation_date': '2024-12-18', 'last_modified_date': '2024-12-18'}, excluded_embed_metadata_keys=['file_name', 'file_type', 'file_size', 'creation_date', 'last_modified_date', 'last_accessed_date'], excluded_llm_metadata_keys=['file_name', 'file_type', 'file_size', 'creation_date', 'last_modified_date', 'last_accessed_date'], relationships={}, metadata_template='{key}: {value}', metadata_separator='\\n', text_resource=MediaResource(embeddings=None, data=None, text='21 \\n \\nsignificant absorption in the red p art of the light spectrum, thus enabling deeper \\ntissue penetration. In addition to its photophysical advantages, Ce6 exhibits high \\nsolubility in aqueous media a nd can be easily conjugated with biomolecules like \\nchitosan, enhancing its bioavailability and cellular uptake. \\n Chlorin-e6 has been studied extensively because of its applications in PDT due \\nto its high singlet oxygen quantum yield  essential for generatin g ROS in \\nphotodynamic reactions. This kind of selective targeting and little to no side effects \\nof Ce6 make it a very attractive candidate for cancer therapy, especially in tumor  \\ntissues that are difficult to access with conventional methods (“Kim et al., 2013”). \\n \\n7.3. Chitosan-Ce6 Conjugates for Biomedical Applications: \\n The development of C SO-Ce6 conjugate for photodynamic applications \\nrepresents a novel approach in tissue engineering and  also improvements in \\nbiomedical fields such as  cancer therapy. The conjugation of Ce6 with chitosan \\nimproves both the solubility and stability of the photosensitizer and leverages the \\nregenerative potential of chitosan in tissue engineering. Cationic nature of chitosan \\nfacilitates Ce6 binding with the help of electrostatic interactions, while on the other \\nhand its polymeric structure provides a scaffold for tissue regeneration. \\n \\n \\n \\n \\n \\n \\n \\nPage 25 of 27 - Integrity Submission\\nSubmission ID trn:oid:::1:3078924115\\nPage 25 of 27 - Integrity Submission\\nSubmission ID trn:oid:::1:3078924115\\n', mimetype=None, path=None, url=None), image_resource=None, audio_resource=None, video_resource=None, text_template='{metadata_str}\\n\\n{content}'),\n",
              " Document(id_='47f9bd1d-1b31-474d-918a-f63caa69fbc7', embedding=None, metadata={'page_label': '26', 'file_name': 'Synthesis_of_Chitosin_Chlorin_e6_conjugate_2.pdf', 'file_path': '/content/data/Synthesis_of_Chitosin_Chlorin_e6_conjugate_2.pdf', 'file_type': 'application/pdf', 'file_size': 1230494, 'creation_date': '2024-12-18', 'last_modified_date': '2024-12-18'}, excluded_embed_metadata_keys=['file_name', 'file_type', 'file_size', 'creation_date', 'last_modified_date', 'last_accessed_date'], excluded_llm_metadata_keys=['file_name', 'file_type', 'file_size', 'creation_date', 'last_modified_date', 'last_accessed_date'], relationships={}, metadata_template='{key}: {value}', metadata_separator='\\n', text_resource=MediaResource(embeddings=None, data=None, text='22 \\n \\nCONCLUSION  \\n \\nIn this project, the conjugation of chitosan  oligosaccharides (CSO) with \\nChlorin e6 ( Ce6) was achieved using the EDC/NHS coupling method. EDC/NHS \\nchemistry is used  widely for covalent conjugation between carboxyl and amine \\ngroups, forming a stable amide bond between the chitosan oligosaccharides’ amino \\ngroup and the Ce6’s carboxyl group. Utilization of this approach ensures the efficient \\ncoupling of Ce6 to CSO without compromising the photosensitizing capabilities of \\nCe6 or the biocompatibility of CSO. \\nThe future work of smart photo responsive polymeric chitosan materials for \\nbiomedical applications requires various characterization studies  like materials \\nanalysis, in-vitro and in-vivo, etc. For compatibility with living things and tissues, \\nnew photosensitive molecular units and more effective switching techniques are \\nrequired, together with chromophores that are sensitive to long wavelengths. \\nAnother crucial challenge is the creation of polymerization strategies that can \\nincorporate chromophores at specific locations in intricate macromolecular \\nstructures (i.e., by using living control radical polymerization techniques). \\nOverall, the conjugation of CSO with Ce6 represents a promising approach \\nfor development smart photo -responsive materials. Further research is needed for \\ncharacterization and to explore those therapeutic applications. Ultimately, these \\nadvancements in photo responsive  chitosan materials have the potential to \\nrevolutionize the field of biomedicine leading to the development  of innovative \\ntherapies and diagnostic tools. \\n \\n \\nPage 26 of 27 - Integrity Submission\\nSubmission ID trn:oid:::1:3078924115\\nPage 26 of 27 - Integrity Submission\\nSubmission ID trn:oid:::1:3078924115\\n', mimetype=None, path=None, url=None), image_resource=None, audio_resource=None, video_resource=None, text_template='{metadata_str}\\n\\n{content}'),\n",
              " Document(id_='0d786b95-bb00-4e55-9507-26990aa618c0', embedding=None, metadata={'page_label': '27', 'file_name': 'Synthesis_of_Chitosin_Chlorin_e6_conjugate_2.pdf', 'file_path': '/content/data/Synthesis_of_Chitosin_Chlorin_e6_conjugate_2.pdf', 'file_type': 'application/pdf', 'file_size': 1230494, 'creation_date': '2024-12-18', 'last_modified_date': '2024-12-18'}, excluded_embed_metadata_keys=['file_name', 'file_type', 'file_size', 'creation_date', 'last_modified_date', 'last_accessed_date'], excluded_llm_metadata_keys=['file_name', 'file_type', 'file_size', 'creation_date', 'last_modified_date', 'last_accessed_date'], relationships={}, metadata_template='{key}: {value}', metadata_separator='\\n', text_resource=MediaResource(embeddings=None, data=None, text='23 \\n \\n \\n \\n \\n \\n \\n \\nPage 27 of 27 - Integrity Submission\\nSubmission ID trn:oid:::1:3078924115\\nPage 27 of 27 - Integrity Submission\\nSubmission ID trn:oid:::1:3078924115\\n', mimetype=None, path=None, url=None), image_resource=None, audio_resource=None, video_resource=None, text_template='{metadata_str}\\n\\n{content}')]"
            ]
          },
          "metadata": {},
          "execution_count": 66
        }
      ]
    },
    {
      "cell_type": "code",
      "source": [
        "%pip install langchain_chroma langchain_openai"
      ],
      "metadata": {
        "collapsed": true,
        "colab": {
          "base_uri": "https://localhost:8080/"
        },
        "id": "Z1rAT6B325r_",
        "outputId": "c3fc39c8-e058-4d2d-ece1-74f8a702d164"
      },
      "execution_count": null,
      "outputs": [
        {
          "output_type": "stream",
          "name": "stdout",
          "text": [
            "Requirement already satisfied: langchain_chroma in /usr/local/lib/python3.10/dist-packages (0.1.4)\n",
            "Requirement already satisfied: langchain_openai in /usr/local/lib/python3.10/dist-packages (0.2.12)\n",
            "Requirement already satisfied: chromadb!=0.5.4,!=0.5.5,<0.6.0,>=0.4.0 in /usr/local/lib/python3.10/dist-packages (from langchain_chroma) (0.5.23)\n",
            "Requirement already satisfied: fastapi<1,>=0.95.2 in /usr/local/lib/python3.10/dist-packages (from langchain_chroma) (0.115.6)\n",
            "Requirement already satisfied: langchain-core<0.4,>=0.1.40 in /usr/local/lib/python3.10/dist-packages (from langchain_chroma) (0.3.25)\n",
            "Requirement already satisfied: numpy<2,>=1 in /usr/local/lib/python3.10/dist-packages (from langchain_chroma) (1.26.4)\n",
            "Requirement already satisfied: openai<2.0.0,>=1.55.3 in /usr/local/lib/python3.10/dist-packages (from langchain_openai) (1.58.1)\n",
            "Requirement already satisfied: tiktoken<1,>=0.7 in /usr/local/lib/python3.10/dist-packages (from langchain_openai) (0.8.0)\n",
            "Requirement already satisfied: build>=1.0.3 in /usr/local/lib/python3.10/dist-packages (from chromadb!=0.5.4,!=0.5.5,<0.6.0,>=0.4.0->langchain_chroma) (1.2.2.post1)\n",
            "Requirement already satisfied: pydantic>=1.9 in /usr/local/lib/python3.10/dist-packages (from chromadb!=0.5.4,!=0.5.5,<0.6.0,>=0.4.0->langchain_chroma) (2.10.3)\n",
            "Requirement already satisfied: chroma-hnswlib==0.7.6 in /usr/local/lib/python3.10/dist-packages (from chromadb!=0.5.4,!=0.5.5,<0.6.0,>=0.4.0->langchain_chroma) (0.7.6)\n",
            "Requirement already satisfied: uvicorn>=0.18.3 in /usr/local/lib/python3.10/dist-packages (from uvicorn[standard]>=0.18.3->chromadb!=0.5.4,!=0.5.5,<0.6.0,>=0.4.0->langchain_chroma) (0.34.0)\n",
            "Requirement already satisfied: posthog>=2.4.0 in /usr/local/lib/python3.10/dist-packages (from chromadb!=0.5.4,!=0.5.5,<0.6.0,>=0.4.0->langchain_chroma) (3.7.4)\n",
            "Requirement already satisfied: typing_extensions>=4.5.0 in /usr/local/lib/python3.10/dist-packages (from chromadb!=0.5.4,!=0.5.5,<0.6.0,>=0.4.0->langchain_chroma) (4.12.2)\n",
            "Requirement already satisfied: onnxruntime>=1.14.1 in /usr/local/lib/python3.10/dist-packages (from chromadb!=0.5.4,!=0.5.5,<0.6.0,>=0.4.0->langchain_chroma) (1.20.1)\n",
            "Requirement already satisfied: opentelemetry-api>=1.2.0 in /usr/local/lib/python3.10/dist-packages (from chromadb!=0.5.4,!=0.5.5,<0.6.0,>=0.4.0->langchain_chroma) (1.29.0)\n",
            "Requirement already satisfied: opentelemetry-exporter-otlp-proto-grpc>=1.2.0 in /usr/local/lib/python3.10/dist-packages (from chromadb!=0.5.4,!=0.5.5,<0.6.0,>=0.4.0->langchain_chroma) (1.29.0)\n",
            "Requirement already satisfied: opentelemetry-instrumentation-fastapi>=0.41b0 in /usr/local/lib/python3.10/dist-packages (from chromadb!=0.5.4,!=0.5.5,<0.6.0,>=0.4.0->langchain_chroma) (0.50b0)\n",
            "Requirement already satisfied: opentelemetry-sdk>=1.2.0 in /usr/local/lib/python3.10/dist-packages (from chromadb!=0.5.4,!=0.5.5,<0.6.0,>=0.4.0->langchain_chroma) (1.29.0)\n",
            "Requirement already satisfied: tokenizers<=0.20.3,>=0.13.2 in /usr/local/lib/python3.10/dist-packages (from chromadb!=0.5.4,!=0.5.5,<0.6.0,>=0.4.0->langchain_chroma) (0.20.3)\n",
            "Requirement already satisfied: pypika>=0.48.9 in /usr/local/lib/python3.10/dist-packages (from chromadb!=0.5.4,!=0.5.5,<0.6.0,>=0.4.0->langchain_chroma) (0.48.9)\n",
            "Requirement already satisfied: tqdm>=4.65.0 in /usr/local/lib/python3.10/dist-packages (from chromadb!=0.5.4,!=0.5.5,<0.6.0,>=0.4.0->langchain_chroma) (4.66.6)\n",
            "Requirement already satisfied: overrides>=7.3.1 in /usr/local/lib/python3.10/dist-packages (from chromadb!=0.5.4,!=0.5.5,<0.6.0,>=0.4.0->langchain_chroma) (7.7.0)\n",
            "Requirement already satisfied: importlib-resources in /usr/local/lib/python3.10/dist-packages (from chromadb!=0.5.4,!=0.5.5,<0.6.0,>=0.4.0->langchain_chroma) (6.4.5)\n",
            "Requirement already satisfied: grpcio>=1.58.0 in /usr/local/lib/python3.10/dist-packages (from chromadb!=0.5.4,!=0.5.5,<0.6.0,>=0.4.0->langchain_chroma) (1.68.1)\n",
            "Requirement already satisfied: bcrypt>=4.0.1 in /usr/local/lib/python3.10/dist-packages (from chromadb!=0.5.4,!=0.5.5,<0.6.0,>=0.4.0->langchain_chroma) (4.2.1)\n",
            "Requirement already satisfied: typer>=0.9.0 in /usr/local/lib/python3.10/dist-packages (from chromadb!=0.5.4,!=0.5.5,<0.6.0,>=0.4.0->langchain_chroma) (0.15.1)\n",
            "Requirement already satisfied: kubernetes>=28.1.0 in /usr/local/lib/python3.10/dist-packages (from chromadb!=0.5.4,!=0.5.5,<0.6.0,>=0.4.0->langchain_chroma) (31.0.0)\n",
            "Requirement already satisfied: tenacity>=8.2.3 in /usr/local/lib/python3.10/dist-packages (from chromadb!=0.5.4,!=0.5.5,<0.6.0,>=0.4.0->langchain_chroma) (9.0.0)\n",
            "Requirement already satisfied: PyYAML>=6.0.0 in /usr/local/lib/python3.10/dist-packages (from chromadb!=0.5.4,!=0.5.5,<0.6.0,>=0.4.0->langchain_chroma) (6.0.2)\n",
            "Requirement already satisfied: mmh3>=4.0.1 in /usr/local/lib/python3.10/dist-packages (from chromadb!=0.5.4,!=0.5.5,<0.6.0,>=0.4.0->langchain_chroma) (5.0.1)\n",
            "Requirement already satisfied: orjson>=3.9.12 in /usr/local/lib/python3.10/dist-packages (from chromadb!=0.5.4,!=0.5.5,<0.6.0,>=0.4.0->langchain_chroma) (3.10.12)\n",
            "Requirement already satisfied: httpx>=0.27.0 in /usr/local/lib/python3.10/dist-packages (from chromadb!=0.5.4,!=0.5.5,<0.6.0,>=0.4.0->langchain_chroma) (0.28.1)\n",
            "Requirement already satisfied: rich>=10.11.0 in /usr/local/lib/python3.10/dist-packages (from chromadb!=0.5.4,!=0.5.5,<0.6.0,>=0.4.0->langchain_chroma) (13.9.4)\n",
            "Requirement already satisfied: starlette<0.42.0,>=0.40.0 in /usr/local/lib/python3.10/dist-packages (from fastapi<1,>=0.95.2->langchain_chroma) (0.41.3)\n",
            "Requirement already satisfied: jsonpatch<2.0,>=1.33 in /usr/local/lib/python3.10/dist-packages (from langchain-core<0.4,>=0.1.40->langchain_chroma) (1.33)\n",
            "Requirement already satisfied: langsmith<0.3,>=0.1.125 in /usr/local/lib/python3.10/dist-packages (from langchain-core<0.4,>=0.1.40->langchain_chroma) (0.2.3)\n",
            "Requirement already satisfied: packaging<25,>=23.2 in /usr/local/lib/python3.10/dist-packages (from langchain-core<0.4,>=0.1.40->langchain_chroma) (24.2)\n",
            "Requirement already satisfied: anyio<5,>=3.5.0 in /usr/local/lib/python3.10/dist-packages (from openai<2.0.0,>=1.55.3->langchain_openai) (3.7.1)\n",
            "Requirement already satisfied: distro<2,>=1.7.0 in /usr/local/lib/python3.10/dist-packages (from openai<2.0.0,>=1.55.3->langchain_openai) (1.9.0)\n",
            "Requirement already satisfied: jiter<1,>=0.4.0 in /usr/local/lib/python3.10/dist-packages (from openai<2.0.0,>=1.55.3->langchain_openai) (0.8.2)\n",
            "Requirement already satisfied: sniffio in /usr/local/lib/python3.10/dist-packages (from openai<2.0.0,>=1.55.3->langchain_openai) (1.3.1)\n",
            "Requirement already satisfied: regex>=2022.1.18 in /usr/local/lib/python3.10/dist-packages (from tiktoken<1,>=0.7->langchain_openai) (2024.9.11)\n",
            "Requirement already satisfied: requests>=2.26.0 in /usr/local/lib/python3.10/dist-packages (from tiktoken<1,>=0.7->langchain_openai) (2.32.3)\n",
            "Requirement already satisfied: idna>=2.8 in /usr/local/lib/python3.10/dist-packages (from anyio<5,>=3.5.0->openai<2.0.0,>=1.55.3->langchain_openai) (3.10)\n",
            "Requirement already satisfied: exceptiongroup in /usr/local/lib/python3.10/dist-packages (from anyio<5,>=3.5.0->openai<2.0.0,>=1.55.3->langchain_openai) (1.2.2)\n",
            "Requirement already satisfied: pyproject_hooks in /usr/local/lib/python3.10/dist-packages (from build>=1.0.3->chromadb!=0.5.4,!=0.5.5,<0.6.0,>=0.4.0->langchain_chroma) (1.2.0)\n",
            "Requirement already satisfied: tomli>=1.1.0 in /usr/local/lib/python3.10/dist-packages (from build>=1.0.3->chromadb!=0.5.4,!=0.5.5,<0.6.0,>=0.4.0->langchain_chroma) (2.2.1)\n",
            "Requirement already satisfied: certifi in /usr/local/lib/python3.10/dist-packages (from httpx>=0.27.0->chromadb!=0.5.4,!=0.5.5,<0.6.0,>=0.4.0->langchain_chroma) (2024.8.30)\n",
            "Requirement already satisfied: httpcore==1.* in /usr/local/lib/python3.10/dist-packages (from httpx>=0.27.0->chromadb!=0.5.4,!=0.5.5,<0.6.0,>=0.4.0->langchain_chroma) (1.0.7)\n",
            "Requirement already satisfied: h11<0.15,>=0.13 in /usr/local/lib/python3.10/dist-packages (from httpcore==1.*->httpx>=0.27.0->chromadb!=0.5.4,!=0.5.5,<0.6.0,>=0.4.0->langchain_chroma) (0.14.0)\n",
            "Requirement already satisfied: jsonpointer>=1.9 in /usr/local/lib/python3.10/dist-packages (from jsonpatch<2.0,>=1.33->langchain-core<0.4,>=0.1.40->langchain_chroma) (3.0.0)\n",
            "Requirement already satisfied: six>=1.9.0 in /usr/local/lib/python3.10/dist-packages (from kubernetes>=28.1.0->chromadb!=0.5.4,!=0.5.5,<0.6.0,>=0.4.0->langchain_chroma) (1.17.0)\n",
            "Requirement already satisfied: python-dateutil>=2.5.3 in /usr/local/lib/python3.10/dist-packages (from kubernetes>=28.1.0->chromadb!=0.5.4,!=0.5.5,<0.6.0,>=0.4.0->langchain_chroma) (2.8.2)\n",
            "Requirement already satisfied: google-auth>=1.0.1 in /usr/local/lib/python3.10/dist-packages (from kubernetes>=28.1.0->chromadb!=0.5.4,!=0.5.5,<0.6.0,>=0.4.0->langchain_chroma) (2.27.0)\n",
            "Requirement already satisfied: websocket-client!=0.40.0,!=0.41.*,!=0.42.*,>=0.32.0 in /usr/local/lib/python3.10/dist-packages (from kubernetes>=28.1.0->chromadb!=0.5.4,!=0.5.5,<0.6.0,>=0.4.0->langchain_chroma) (1.8.0)\n",
            "Requirement already satisfied: requests-oauthlib in /usr/local/lib/python3.10/dist-packages (from kubernetes>=28.1.0->chromadb!=0.5.4,!=0.5.5,<0.6.0,>=0.4.0->langchain_chroma) (1.3.1)\n",
            "Requirement already satisfied: oauthlib>=3.2.2 in /usr/local/lib/python3.10/dist-packages (from kubernetes>=28.1.0->chromadb!=0.5.4,!=0.5.5,<0.6.0,>=0.4.0->langchain_chroma) (3.2.2)\n",
            "Requirement already satisfied: urllib3>=1.24.2 in /usr/local/lib/python3.10/dist-packages (from kubernetes>=28.1.0->chromadb!=0.5.4,!=0.5.5,<0.6.0,>=0.4.0->langchain_chroma) (2.2.3)\n",
            "Requirement already satisfied: durationpy>=0.7 in /usr/local/lib/python3.10/dist-packages (from kubernetes>=28.1.0->chromadb!=0.5.4,!=0.5.5,<0.6.0,>=0.4.0->langchain_chroma) (0.9)\n",
            "Requirement already satisfied: requests-toolbelt<2.0.0,>=1.0.0 in /usr/local/lib/python3.10/dist-packages (from langsmith<0.3,>=0.1.125->langchain-core<0.4,>=0.1.40->langchain_chroma) (1.0.0)\n",
            "Requirement already satisfied: coloredlogs in /usr/local/lib/python3.10/dist-packages (from onnxruntime>=1.14.1->chromadb!=0.5.4,!=0.5.5,<0.6.0,>=0.4.0->langchain_chroma) (15.0.1)\n",
            "Requirement already satisfied: flatbuffers in /usr/local/lib/python3.10/dist-packages (from onnxruntime>=1.14.1->chromadb!=0.5.4,!=0.5.5,<0.6.0,>=0.4.0->langchain_chroma) (24.3.25)\n",
            "Requirement already satisfied: protobuf in /usr/local/lib/python3.10/dist-packages (from onnxruntime>=1.14.1->chromadb!=0.5.4,!=0.5.5,<0.6.0,>=0.4.0->langchain_chroma) (5.29.1)\n",
            "Requirement already satisfied: sympy in /usr/local/lib/python3.10/dist-packages (from onnxruntime>=1.14.1->chromadb!=0.5.4,!=0.5.5,<0.6.0,>=0.4.0->langchain_chroma) (1.13.1)\n",
            "Requirement already satisfied: deprecated>=1.2.6 in /usr/local/lib/python3.10/dist-packages (from opentelemetry-api>=1.2.0->chromadb!=0.5.4,!=0.5.5,<0.6.0,>=0.4.0->langchain_chroma) (1.2.15)\n",
            "Requirement already satisfied: importlib-metadata<=8.5.0,>=6.0 in /usr/local/lib/python3.10/dist-packages (from opentelemetry-api>=1.2.0->chromadb!=0.5.4,!=0.5.5,<0.6.0,>=0.4.0->langchain_chroma) (8.5.0)\n",
            "Requirement already satisfied: googleapis-common-protos~=1.52 in /usr/local/lib/python3.10/dist-packages (from opentelemetry-exporter-otlp-proto-grpc>=1.2.0->chromadb!=0.5.4,!=0.5.5,<0.6.0,>=0.4.0->langchain_chroma) (1.66.0)\n",
            "Requirement already satisfied: opentelemetry-exporter-otlp-proto-common==1.29.0 in /usr/local/lib/python3.10/dist-packages (from opentelemetry-exporter-otlp-proto-grpc>=1.2.0->chromadb!=0.5.4,!=0.5.5,<0.6.0,>=0.4.0->langchain_chroma) (1.29.0)\n",
            "Requirement already satisfied: opentelemetry-proto==1.29.0 in /usr/local/lib/python3.10/dist-packages (from opentelemetry-exporter-otlp-proto-grpc>=1.2.0->chromadb!=0.5.4,!=0.5.5,<0.6.0,>=0.4.0->langchain_chroma) (1.29.0)\n",
            "Requirement already satisfied: opentelemetry-instrumentation-asgi==0.50b0 in /usr/local/lib/python3.10/dist-packages (from opentelemetry-instrumentation-fastapi>=0.41b0->chromadb!=0.5.4,!=0.5.5,<0.6.0,>=0.4.0->langchain_chroma) (0.50b0)\n",
            "Requirement already satisfied: opentelemetry-instrumentation==0.50b0 in /usr/local/lib/python3.10/dist-packages (from opentelemetry-instrumentation-fastapi>=0.41b0->chromadb!=0.5.4,!=0.5.5,<0.6.0,>=0.4.0->langchain_chroma) (0.50b0)\n",
            "Requirement already satisfied: opentelemetry-semantic-conventions==0.50b0 in /usr/local/lib/python3.10/dist-packages (from opentelemetry-instrumentation-fastapi>=0.41b0->chromadb!=0.5.4,!=0.5.5,<0.6.0,>=0.4.0->langchain_chroma) (0.50b0)\n",
            "Requirement already satisfied: opentelemetry-util-http==0.50b0 in /usr/local/lib/python3.10/dist-packages (from opentelemetry-instrumentation-fastapi>=0.41b0->chromadb!=0.5.4,!=0.5.5,<0.6.0,>=0.4.0->langchain_chroma) (0.50b0)\n",
            "Requirement already satisfied: wrapt<2.0.0,>=1.0.0 in /usr/local/lib/python3.10/dist-packages (from opentelemetry-instrumentation==0.50b0->opentelemetry-instrumentation-fastapi>=0.41b0->chromadb!=0.5.4,!=0.5.5,<0.6.0,>=0.4.0->langchain_chroma) (1.17.0)\n",
            "Requirement already satisfied: asgiref~=3.0 in /usr/local/lib/python3.10/dist-packages (from opentelemetry-instrumentation-asgi==0.50b0->opentelemetry-instrumentation-fastapi>=0.41b0->chromadb!=0.5.4,!=0.5.5,<0.6.0,>=0.4.0->langchain_chroma) (3.8.1)\n",
            "Requirement already satisfied: monotonic>=1.5 in /usr/local/lib/python3.10/dist-packages (from posthog>=2.4.0->chromadb!=0.5.4,!=0.5.5,<0.6.0,>=0.4.0->langchain_chroma) (1.6)\n",
            "Requirement already satisfied: backoff>=1.10.0 in /usr/local/lib/python3.10/dist-packages (from posthog>=2.4.0->chromadb!=0.5.4,!=0.5.5,<0.6.0,>=0.4.0->langchain_chroma) (2.2.1)\n",
            "Requirement already satisfied: annotated-types>=0.6.0 in /usr/local/lib/python3.10/dist-packages (from pydantic>=1.9->chromadb!=0.5.4,!=0.5.5,<0.6.0,>=0.4.0->langchain_chroma) (0.7.0)\n",
            "Requirement already satisfied: pydantic-core==2.27.1 in /usr/local/lib/python3.10/dist-packages (from pydantic>=1.9->chromadb!=0.5.4,!=0.5.5,<0.6.0,>=0.4.0->langchain_chroma) (2.27.1)\n",
            "Requirement already satisfied: charset-normalizer<4,>=2 in /usr/local/lib/python3.10/dist-packages (from requests>=2.26.0->tiktoken<1,>=0.7->langchain_openai) (3.4.0)\n",
            "Requirement already satisfied: markdown-it-py>=2.2.0 in /usr/local/lib/python3.10/dist-packages (from rich>=10.11.0->chromadb!=0.5.4,!=0.5.5,<0.6.0,>=0.4.0->langchain_chroma) (3.0.0)\n",
            "Requirement already satisfied: pygments<3.0.0,>=2.13.0 in /usr/local/lib/python3.10/dist-packages (from rich>=10.11.0->chromadb!=0.5.4,!=0.5.5,<0.6.0,>=0.4.0->langchain_chroma) (2.18.0)\n",
            "Requirement already satisfied: huggingface-hub<1.0,>=0.16.4 in /usr/local/lib/python3.10/dist-packages (from tokenizers<=0.20.3,>=0.13.2->chromadb!=0.5.4,!=0.5.5,<0.6.0,>=0.4.0->langchain_chroma) (0.26.5)\n",
            "Requirement already satisfied: click>=8.0.0 in /usr/local/lib/python3.10/dist-packages (from typer>=0.9.0->chromadb!=0.5.4,!=0.5.5,<0.6.0,>=0.4.0->langchain_chroma) (8.1.7)\n",
            "Requirement already satisfied: shellingham>=1.3.0 in /usr/local/lib/python3.10/dist-packages (from typer>=0.9.0->chromadb!=0.5.4,!=0.5.5,<0.6.0,>=0.4.0->langchain_chroma) (1.5.4)\n",
            "Requirement already satisfied: httptools>=0.6.3 in /usr/local/lib/python3.10/dist-packages (from uvicorn[standard]>=0.18.3->chromadb!=0.5.4,!=0.5.5,<0.6.0,>=0.4.0->langchain_chroma) (0.6.4)\n",
            "Requirement already satisfied: python-dotenv>=0.13 in /usr/local/lib/python3.10/dist-packages (from uvicorn[standard]>=0.18.3->chromadb!=0.5.4,!=0.5.5,<0.6.0,>=0.4.0->langchain_chroma) (1.0.1)\n",
            "Requirement already satisfied: uvloop!=0.15.0,!=0.15.1,>=0.14.0 in /usr/local/lib/python3.10/dist-packages (from uvicorn[standard]>=0.18.3->chromadb!=0.5.4,!=0.5.5,<0.6.0,>=0.4.0->langchain_chroma) (0.21.0)\n",
            "Requirement already satisfied: watchfiles>=0.13 in /usr/local/lib/python3.10/dist-packages (from uvicorn[standard]>=0.18.3->chromadb!=0.5.4,!=0.5.5,<0.6.0,>=0.4.0->langchain_chroma) (1.0.3)\n",
            "Requirement already satisfied: websockets>=10.4 in /usr/local/lib/python3.10/dist-packages (from uvicorn[standard]>=0.18.3->chromadb!=0.5.4,!=0.5.5,<0.6.0,>=0.4.0->langchain_chroma) (14.1)\n",
            "Requirement already satisfied: cachetools<6.0,>=2.0.0 in /usr/local/lib/python3.10/dist-packages (from google-auth>=1.0.1->kubernetes>=28.1.0->chromadb!=0.5.4,!=0.5.5,<0.6.0,>=0.4.0->langchain_chroma) (5.5.0)\n",
            "Requirement already satisfied: pyasn1-modules>=0.2.1 in /usr/local/lib/python3.10/dist-packages (from google-auth>=1.0.1->kubernetes>=28.1.0->chromadb!=0.5.4,!=0.5.5,<0.6.0,>=0.4.0->langchain_chroma) (0.4.1)\n",
            "Requirement already satisfied: rsa<5,>=3.1.4 in /usr/local/lib/python3.10/dist-packages (from google-auth>=1.0.1->kubernetes>=28.1.0->chromadb!=0.5.4,!=0.5.5,<0.6.0,>=0.4.0->langchain_chroma) (4.9)\n",
            "Requirement already satisfied: filelock in /usr/local/lib/python3.10/dist-packages (from huggingface-hub<1.0,>=0.16.4->tokenizers<=0.20.3,>=0.13.2->chromadb!=0.5.4,!=0.5.5,<0.6.0,>=0.4.0->langchain_chroma) (3.16.1)\n",
            "Requirement already satisfied: fsspec>=2023.5.0 in /usr/local/lib/python3.10/dist-packages (from huggingface-hub<1.0,>=0.16.4->tokenizers<=0.20.3,>=0.13.2->chromadb!=0.5.4,!=0.5.5,<0.6.0,>=0.4.0->langchain_chroma) (2024.10.0)\n",
            "Requirement already satisfied: zipp>=3.20 in /usr/local/lib/python3.10/dist-packages (from importlib-metadata<=8.5.0,>=6.0->opentelemetry-api>=1.2.0->chromadb!=0.5.4,!=0.5.5,<0.6.0,>=0.4.0->langchain_chroma) (3.21.0)\n",
            "Requirement already satisfied: mdurl~=0.1 in /usr/local/lib/python3.10/dist-packages (from markdown-it-py>=2.2.0->rich>=10.11.0->chromadb!=0.5.4,!=0.5.5,<0.6.0,>=0.4.0->langchain_chroma) (0.1.2)\n",
            "Requirement already satisfied: humanfriendly>=9.1 in /usr/local/lib/python3.10/dist-packages (from coloredlogs->onnxruntime>=1.14.1->chromadb!=0.5.4,!=0.5.5,<0.6.0,>=0.4.0->langchain_chroma) (10.0)\n",
            "Requirement already satisfied: mpmath<1.4,>=1.1.0 in /usr/local/lib/python3.10/dist-packages (from sympy->onnxruntime>=1.14.1->chromadb!=0.5.4,!=0.5.5,<0.6.0,>=0.4.0->langchain_chroma) (1.3.0)\n",
            "Requirement already satisfied: pyasn1<0.7.0,>=0.4.6 in /usr/local/lib/python3.10/dist-packages (from pyasn1-modules>=0.2.1->google-auth>=1.0.1->kubernetes>=28.1.0->chromadb!=0.5.4,!=0.5.5,<0.6.0,>=0.4.0->langchain_chroma) (0.6.1)\n"
          ]
        }
      ]
    },
    {
      "cell_type": "code",
      "source": [
        "pip install langchain-huggingface"
      ],
      "metadata": {
        "collapsed": true,
        "colab": {
          "base_uri": "https://localhost:8080/"
        },
        "id": "GZl5Vbcp4WKn",
        "outputId": "101a06f1-2d39-47ff-e23b-114036517bc5"
      },
      "execution_count": null,
      "outputs": [
        {
          "output_type": "stream",
          "name": "stdout",
          "text": [
            "Requirement already satisfied: langchain-huggingface in /usr/local/lib/python3.10/dist-packages (0.1.2)\n",
            "Requirement already satisfied: huggingface-hub>=0.23.0 in /usr/local/lib/python3.10/dist-packages (from langchain-huggingface) (0.26.5)\n",
            "Requirement already satisfied: langchain-core<0.4.0,>=0.3.15 in /usr/local/lib/python3.10/dist-packages (from langchain-huggingface) (0.3.25)\n",
            "Requirement already satisfied: sentence-transformers>=2.6.0 in /usr/local/lib/python3.10/dist-packages (from langchain-huggingface) (3.2.1)\n",
            "Requirement already satisfied: tokenizers>=0.19.1 in /usr/local/lib/python3.10/dist-packages (from langchain-huggingface) (0.20.3)\n",
            "Requirement already satisfied: transformers>=4.39.0 in /usr/local/lib/python3.10/dist-packages (from langchain-huggingface) (4.46.3)\n",
            "Requirement already satisfied: filelock in /usr/local/lib/python3.10/dist-packages (from huggingface-hub>=0.23.0->langchain-huggingface) (3.16.1)\n",
            "Requirement already satisfied: fsspec>=2023.5.0 in /usr/local/lib/python3.10/dist-packages (from huggingface-hub>=0.23.0->langchain-huggingface) (2024.10.0)\n",
            "Requirement already satisfied: packaging>=20.9 in /usr/local/lib/python3.10/dist-packages (from huggingface-hub>=0.23.0->langchain-huggingface) (24.2)\n",
            "Requirement already satisfied: pyyaml>=5.1 in /usr/local/lib/python3.10/dist-packages (from huggingface-hub>=0.23.0->langchain-huggingface) (6.0.2)\n",
            "Requirement already satisfied: requests in /usr/local/lib/python3.10/dist-packages (from huggingface-hub>=0.23.0->langchain-huggingface) (2.32.3)\n",
            "Requirement already satisfied: tqdm>=4.42.1 in /usr/local/lib/python3.10/dist-packages (from huggingface-hub>=0.23.0->langchain-huggingface) (4.66.6)\n",
            "Requirement already satisfied: typing-extensions>=3.7.4.3 in /usr/local/lib/python3.10/dist-packages (from huggingface-hub>=0.23.0->langchain-huggingface) (4.12.2)\n",
            "Requirement already satisfied: jsonpatch<2.0,>=1.33 in /usr/local/lib/python3.10/dist-packages (from langchain-core<0.4.0,>=0.3.15->langchain-huggingface) (1.33)\n",
            "Requirement already satisfied: langsmith<0.3,>=0.1.125 in /usr/local/lib/python3.10/dist-packages (from langchain-core<0.4.0,>=0.3.15->langchain-huggingface) (0.2.3)\n",
            "Requirement already satisfied: pydantic<3.0.0,>=2.5.2 in /usr/local/lib/python3.10/dist-packages (from langchain-core<0.4.0,>=0.3.15->langchain-huggingface) (2.10.3)\n",
            "Requirement already satisfied: tenacity!=8.4.0,<10.0.0,>=8.1.0 in /usr/local/lib/python3.10/dist-packages (from langchain-core<0.4.0,>=0.3.15->langchain-huggingface) (9.0.0)\n",
            "Requirement already satisfied: torch>=1.11.0 in /usr/local/lib/python3.10/dist-packages (from sentence-transformers>=2.6.0->langchain-huggingface) (2.5.1+cu121)\n",
            "Requirement already satisfied: scikit-learn in /usr/local/lib/python3.10/dist-packages (from sentence-transformers>=2.6.0->langchain-huggingface) (1.5.2)\n",
            "Requirement already satisfied: scipy in /usr/local/lib/python3.10/dist-packages (from sentence-transformers>=2.6.0->langchain-huggingface) (1.13.1)\n",
            "Requirement already satisfied: Pillow in /usr/local/lib/python3.10/dist-packages (from sentence-transformers>=2.6.0->langchain-huggingface) (11.0.0)\n",
            "Requirement already satisfied: numpy>=1.17 in /usr/local/lib/python3.10/dist-packages (from transformers>=4.39.0->langchain-huggingface) (1.26.4)\n",
            "Requirement already satisfied: regex!=2019.12.17 in /usr/local/lib/python3.10/dist-packages (from transformers>=4.39.0->langchain-huggingface) (2024.9.11)\n",
            "Requirement already satisfied: safetensors>=0.4.1 in /usr/local/lib/python3.10/dist-packages (from transformers>=4.39.0->langchain-huggingface) (0.4.5)\n",
            "Requirement already satisfied: jsonpointer>=1.9 in /usr/local/lib/python3.10/dist-packages (from jsonpatch<2.0,>=1.33->langchain-core<0.4.0,>=0.3.15->langchain-huggingface) (3.0.0)\n",
            "Requirement already satisfied: httpx<1,>=0.23.0 in /usr/local/lib/python3.10/dist-packages (from langsmith<0.3,>=0.1.125->langchain-core<0.4.0,>=0.3.15->langchain-huggingface) (0.28.1)\n",
            "Requirement already satisfied: orjson<4.0.0,>=3.9.14 in /usr/local/lib/python3.10/dist-packages (from langsmith<0.3,>=0.1.125->langchain-core<0.4.0,>=0.3.15->langchain-huggingface) (3.10.12)\n",
            "Requirement already satisfied: requests-toolbelt<2.0.0,>=1.0.0 in /usr/local/lib/python3.10/dist-packages (from langsmith<0.3,>=0.1.125->langchain-core<0.4.0,>=0.3.15->langchain-huggingface) (1.0.0)\n",
            "Requirement already satisfied: annotated-types>=0.6.0 in /usr/local/lib/python3.10/dist-packages (from pydantic<3.0.0,>=2.5.2->langchain-core<0.4.0,>=0.3.15->langchain-huggingface) (0.7.0)\n",
            "Requirement already satisfied: pydantic-core==2.27.1 in /usr/local/lib/python3.10/dist-packages (from pydantic<3.0.0,>=2.5.2->langchain-core<0.4.0,>=0.3.15->langchain-huggingface) (2.27.1)\n",
            "Requirement already satisfied: charset-normalizer<4,>=2 in /usr/local/lib/python3.10/dist-packages (from requests->huggingface-hub>=0.23.0->langchain-huggingface) (3.4.0)\n",
            "Requirement already satisfied: idna<4,>=2.5 in /usr/local/lib/python3.10/dist-packages (from requests->huggingface-hub>=0.23.0->langchain-huggingface) (3.10)\n",
            "Requirement already satisfied: urllib3<3,>=1.21.1 in /usr/local/lib/python3.10/dist-packages (from requests->huggingface-hub>=0.23.0->langchain-huggingface) (2.2.3)\n",
            "Requirement already satisfied: certifi>=2017.4.17 in /usr/local/lib/python3.10/dist-packages (from requests->huggingface-hub>=0.23.0->langchain-huggingface) (2024.8.30)\n",
            "Requirement already satisfied: networkx in /usr/local/lib/python3.10/dist-packages (from torch>=1.11.0->sentence-transformers>=2.6.0->langchain-huggingface) (3.4.2)\n",
            "Requirement already satisfied: jinja2 in /usr/local/lib/python3.10/dist-packages (from torch>=1.11.0->sentence-transformers>=2.6.0->langchain-huggingface) (3.1.4)\n",
            "Requirement already satisfied: sympy==1.13.1 in /usr/local/lib/python3.10/dist-packages (from torch>=1.11.0->sentence-transformers>=2.6.0->langchain-huggingface) (1.13.1)\n",
            "Requirement already satisfied: mpmath<1.4,>=1.1.0 in /usr/local/lib/python3.10/dist-packages (from sympy==1.13.1->torch>=1.11.0->sentence-transformers>=2.6.0->langchain-huggingface) (1.3.0)\n",
            "Requirement already satisfied: joblib>=1.2.0 in /usr/local/lib/python3.10/dist-packages (from scikit-learn->sentence-transformers>=2.6.0->langchain-huggingface) (1.4.2)\n",
            "Requirement already satisfied: threadpoolctl>=3.1.0 in /usr/local/lib/python3.10/dist-packages (from scikit-learn->sentence-transformers>=2.6.0->langchain-huggingface) (3.5.0)\n",
            "Requirement already satisfied: anyio in /usr/local/lib/python3.10/dist-packages (from httpx<1,>=0.23.0->langsmith<0.3,>=0.1.125->langchain-core<0.4.0,>=0.3.15->langchain-huggingface) (3.7.1)\n",
            "Requirement already satisfied: httpcore==1.* in /usr/local/lib/python3.10/dist-packages (from httpx<1,>=0.23.0->langsmith<0.3,>=0.1.125->langchain-core<0.4.0,>=0.3.15->langchain-huggingface) (1.0.7)\n",
            "Requirement already satisfied: h11<0.15,>=0.13 in /usr/local/lib/python3.10/dist-packages (from httpcore==1.*->httpx<1,>=0.23.0->langsmith<0.3,>=0.1.125->langchain-core<0.4.0,>=0.3.15->langchain-huggingface) (0.14.0)\n",
            "Requirement already satisfied: MarkupSafe>=2.0 in /usr/local/lib/python3.10/dist-packages (from jinja2->torch>=1.11.0->sentence-transformers>=2.6.0->langchain-huggingface) (3.0.2)\n",
            "Requirement already satisfied: sniffio>=1.1 in /usr/local/lib/python3.10/dist-packages (from anyio->httpx<1,>=0.23.0->langsmith<0.3,>=0.1.125->langchain-core<0.4.0,>=0.3.15->langchain-huggingface) (1.3.1)\n",
            "Requirement already satisfied: exceptiongroup in /usr/local/lib/python3.10/dist-packages (from anyio->httpx<1,>=0.23.0->langsmith<0.3,>=0.1.125->langchain-core<0.4.0,>=0.3.15->langchain-huggingface) (1.2.2)\n"
          ]
        }
      ]
    },
    {
      "cell_type": "code",
      "source": [
        "from langchain_huggingface import HuggingFaceEmbeddings\n",
        "\n",
        "embeddings_model = HuggingFaceEmbeddings(model_name=\"sentence-transformers/all-mpnet-base-v2\")"
      ],
      "metadata": {
        "id": "dQ0DRg094g8h"
      },
      "execution_count": null,
      "outputs": []
    },
    {
      "cell_type": "code",
      "source": [
        "!pip install langchain_community"
      ],
      "metadata": {
        "colab": {
          "base_uri": "https://localhost:8080/"
        },
        "id": "qv_rrjdh4tFz",
        "outputId": "fb977e81-8f2c-439b-81ea-81a3e4a02eec"
      },
      "execution_count": null,
      "outputs": [
        {
          "output_type": "stream",
          "name": "stdout",
          "text": [
            "Requirement already satisfied: langchain_community in /usr/local/lib/python3.10/dist-packages (0.3.12)\n",
            "Requirement already satisfied: PyYAML>=5.3 in /usr/local/lib/python3.10/dist-packages (from langchain_community) (6.0.2)\n",
            "Requirement already satisfied: SQLAlchemy<3,>=1.4 in /usr/local/lib/python3.10/dist-packages (from langchain_community) (2.0.36)\n",
            "Requirement already satisfied: aiohttp<4.0.0,>=3.8.3 in /usr/local/lib/python3.10/dist-packages (from langchain_community) (3.11.10)\n",
            "Requirement already satisfied: dataclasses-json<0.7,>=0.5.7 in /usr/local/lib/python3.10/dist-packages (from langchain_community) (0.6.7)\n",
            "Requirement already satisfied: httpx-sse<0.5.0,>=0.4.0 in /usr/local/lib/python3.10/dist-packages (from langchain_community) (0.4.0)\n",
            "Requirement already satisfied: langchain<0.4.0,>=0.3.12 in /usr/local/lib/python3.10/dist-packages (from langchain_community) (0.3.12)\n",
            "Requirement already satisfied: langchain-core<0.4.0,>=0.3.25 in /usr/local/lib/python3.10/dist-packages (from langchain_community) (0.3.25)\n",
            "Requirement already satisfied: langsmith<0.3,>=0.1.125 in /usr/local/lib/python3.10/dist-packages (from langchain_community) (0.2.3)\n",
            "Requirement already satisfied: numpy<2,>=1.22.4 in /usr/local/lib/python3.10/dist-packages (from langchain_community) (1.26.4)\n",
            "Requirement already satisfied: pydantic-settings<3.0.0,>=2.4.0 in /usr/local/lib/python3.10/dist-packages (from langchain_community) (2.7.0)\n",
            "Requirement already satisfied: requests<3,>=2 in /usr/local/lib/python3.10/dist-packages (from langchain_community) (2.32.3)\n",
            "Requirement already satisfied: tenacity!=8.4.0,<10,>=8.1.0 in /usr/local/lib/python3.10/dist-packages (from langchain_community) (9.0.0)\n",
            "Requirement already satisfied: aiohappyeyeballs>=2.3.0 in /usr/local/lib/python3.10/dist-packages (from aiohttp<4.0.0,>=3.8.3->langchain_community) (2.4.4)\n",
            "Requirement already satisfied: aiosignal>=1.1.2 in /usr/local/lib/python3.10/dist-packages (from aiohttp<4.0.0,>=3.8.3->langchain_community) (1.3.2)\n",
            "Requirement already satisfied: async-timeout<6.0,>=4.0 in /usr/local/lib/python3.10/dist-packages (from aiohttp<4.0.0,>=3.8.3->langchain_community) (4.0.3)\n",
            "Requirement already satisfied: attrs>=17.3.0 in /usr/local/lib/python3.10/dist-packages (from aiohttp<4.0.0,>=3.8.3->langchain_community) (24.2.0)\n",
            "Requirement already satisfied: frozenlist>=1.1.1 in /usr/local/lib/python3.10/dist-packages (from aiohttp<4.0.0,>=3.8.3->langchain_community) (1.5.0)\n",
            "Requirement already satisfied: multidict<7.0,>=4.5 in /usr/local/lib/python3.10/dist-packages (from aiohttp<4.0.0,>=3.8.3->langchain_community) (6.1.0)\n",
            "Requirement already satisfied: propcache>=0.2.0 in /usr/local/lib/python3.10/dist-packages (from aiohttp<4.0.0,>=3.8.3->langchain_community) (0.2.1)\n",
            "Requirement already satisfied: yarl<2.0,>=1.17.0 in /usr/local/lib/python3.10/dist-packages (from aiohttp<4.0.0,>=3.8.3->langchain_community) (1.18.3)\n",
            "Requirement already satisfied: marshmallow<4.0.0,>=3.18.0 in /usr/local/lib/python3.10/dist-packages (from dataclasses-json<0.7,>=0.5.7->langchain_community) (3.23.1)\n",
            "Requirement already satisfied: typing-inspect<1,>=0.4.0 in /usr/local/lib/python3.10/dist-packages (from dataclasses-json<0.7,>=0.5.7->langchain_community) (0.9.0)\n",
            "Requirement already satisfied: langchain-text-splitters<0.4.0,>=0.3.3 in /usr/local/lib/python3.10/dist-packages (from langchain<0.4.0,>=0.3.12->langchain_community) (0.3.3)\n",
            "Requirement already satisfied: pydantic<3.0.0,>=2.7.4 in /usr/local/lib/python3.10/dist-packages (from langchain<0.4.0,>=0.3.12->langchain_community) (2.10.3)\n",
            "Requirement already satisfied: jsonpatch<2.0,>=1.33 in /usr/local/lib/python3.10/dist-packages (from langchain-core<0.4.0,>=0.3.25->langchain_community) (1.33)\n",
            "Requirement already satisfied: packaging<25,>=23.2 in /usr/local/lib/python3.10/dist-packages (from langchain-core<0.4.0,>=0.3.25->langchain_community) (24.2)\n",
            "Requirement already satisfied: typing-extensions>=4.7 in /usr/local/lib/python3.10/dist-packages (from langchain-core<0.4.0,>=0.3.25->langchain_community) (4.12.2)\n",
            "Requirement already satisfied: httpx<1,>=0.23.0 in /usr/local/lib/python3.10/dist-packages (from langsmith<0.3,>=0.1.125->langchain_community) (0.28.1)\n",
            "Requirement already satisfied: orjson<4.0.0,>=3.9.14 in /usr/local/lib/python3.10/dist-packages (from langsmith<0.3,>=0.1.125->langchain_community) (3.10.12)\n",
            "Requirement already satisfied: requests-toolbelt<2.0.0,>=1.0.0 in /usr/local/lib/python3.10/dist-packages (from langsmith<0.3,>=0.1.125->langchain_community) (1.0.0)\n",
            "Requirement already satisfied: python-dotenv>=0.21.0 in /usr/local/lib/python3.10/dist-packages (from pydantic-settings<3.0.0,>=2.4.0->langchain_community) (1.0.1)\n",
            "Requirement already satisfied: charset-normalizer<4,>=2 in /usr/local/lib/python3.10/dist-packages (from requests<3,>=2->langchain_community) (3.4.0)\n",
            "Requirement already satisfied: idna<4,>=2.5 in /usr/local/lib/python3.10/dist-packages (from requests<3,>=2->langchain_community) (3.10)\n",
            "Requirement already satisfied: urllib3<3,>=1.21.1 in /usr/local/lib/python3.10/dist-packages (from requests<3,>=2->langchain_community) (2.2.3)\n",
            "Requirement already satisfied: certifi>=2017.4.17 in /usr/local/lib/python3.10/dist-packages (from requests<3,>=2->langchain_community) (2024.8.30)\n",
            "Requirement already satisfied: greenlet!=0.4.17 in /usr/local/lib/python3.10/dist-packages (from SQLAlchemy<3,>=1.4->langchain_community) (3.1.1)\n",
            "Requirement already satisfied: anyio in /usr/local/lib/python3.10/dist-packages (from httpx<1,>=0.23.0->langsmith<0.3,>=0.1.125->langchain_community) (3.7.1)\n",
            "Requirement already satisfied: httpcore==1.* in /usr/local/lib/python3.10/dist-packages (from httpx<1,>=0.23.0->langsmith<0.3,>=0.1.125->langchain_community) (1.0.7)\n",
            "Requirement already satisfied: h11<0.15,>=0.13 in /usr/local/lib/python3.10/dist-packages (from httpcore==1.*->httpx<1,>=0.23.0->langsmith<0.3,>=0.1.125->langchain_community) (0.14.0)\n",
            "Requirement already satisfied: jsonpointer>=1.9 in /usr/local/lib/python3.10/dist-packages (from jsonpatch<2.0,>=1.33->langchain-core<0.4.0,>=0.3.25->langchain_community) (3.0.0)\n",
            "Requirement already satisfied: annotated-types>=0.6.0 in /usr/local/lib/python3.10/dist-packages (from pydantic<3.0.0,>=2.7.4->langchain<0.4.0,>=0.3.12->langchain_community) (0.7.0)\n",
            "Requirement already satisfied: pydantic-core==2.27.1 in /usr/local/lib/python3.10/dist-packages (from pydantic<3.0.0,>=2.7.4->langchain<0.4.0,>=0.3.12->langchain_community) (2.27.1)\n",
            "Requirement already satisfied: mypy-extensions>=0.3.0 in /usr/local/lib/python3.10/dist-packages (from typing-inspect<1,>=0.4.0->dataclasses-json<0.7,>=0.5.7->langchain_community) (1.0.0)\n",
            "Requirement already satisfied: sniffio>=1.1 in /usr/local/lib/python3.10/dist-packages (from anyio->httpx<1,>=0.23.0->langsmith<0.3,>=0.1.125->langchain_community) (1.3.1)\n",
            "Requirement already satisfied: exceptiongroup in /usr/local/lib/python3.10/dist-packages (from anyio->httpx<1,>=0.23.0->langsmith<0.3,>=0.1.125->langchain_community) (1.2.2)\n"
          ]
        }
      ]
    },
    {
      "cell_type": "code",
      "source": [
        "from langchain_chroma import Chroma\n",
        "from langchain_text_splitters import RecursiveCharacterTextSplitter\n",
        "from langchain.embeddings.huggingface import HuggingFaceEmbeddings\n",
        "\n",
        "# Split the documents using LangChain's RecursiveCharacterTextSplitter\n",
        "def process_and_split_documents(documents):\n",
        "    # Initialize the text splitter\n",
        "    text_splitter = RecursiveCharacterTextSplitter(chunk_size=1000, chunk_overlap=200)\n",
        "\n",
        "    # Split the documents into smaller chunks\n",
        "    splits = []\n",
        "    for doc in documents:\n",
        "        if hasattr(doc, 'text'):  # Ensure the document has a 'text' attribute\n",
        "            splits.extend(text_splitter.split_text(doc.text))\n",
        "        else:\n",
        "            print(\"Document does not have text content.\")\n",
        "    return splits\n",
        "\n",
        "# Split the documents\n",
        "split_texts = process_and_split_documents(documents)\n",
        "\n",
        "# Generate embeddings using a local HuggingFace model\n",
        "def create_embeddings_model():\n",
        "    # Specify the HuggingFace model to use for embeddings\n",
        "    return HuggingFaceEmbeddings(model_name=\"sentence-transformers/all-MiniLM-L6-v2\")\n",
        "\n",
        "# Initialize the embeddings model\n",
        "embeddings_model = create_embeddings_model()\n",
        "\n",
        "# Store the document chunks in Chroma\n",
        "def store_in_chroma(text_chunks, embeddings_model):\n",
        "    vectorstore = Chroma.from_texts(\n",
        "        texts=text_chunks,\n",
        "        embedding=embeddings_model,\n",
        "        persist_directory=\"./chroma_storage\"  # Directory to persist the vectorstore\n",
        "    )\n",
        "    # vectorstore.persist()\n",
        "    return vectorstore\n",
        "\n",
        "# Store split texts in Chroma\n",
        "vectorstore = store_in_chroma(split_texts, embeddings_model)\n",
        "\n",
        "# Use the vectorstore as a retriever\n",
        "retriever = vectorstore.as_retriever()\n",
        "\n",
        "# # Query the retriever\n",
        "# query = \"What is Chitosan\"\n",
        "# results = retriever.get_relevant_documents(query)\n",
        "\n",
        "# # Display the results\n",
        "# for i, result in enumerate(results):\n",
        "#     print(f\"Result {i + 1}:\\n{result.page_content}\\n\")\n"
      ],
      "metadata": {
        "collapsed": true,
        "id": "EW4Y1bTl9qts"
      },
      "execution_count": null,
      "outputs": []
    },
    {
      "cell_type": "code",
      "source": [],
      "metadata": {
        "id": "c7R5KkQMFKnT"
      },
      "execution_count": null,
      "outputs": []
    },
    {
      "cell_type": "code",
      "source": [
        "from langchain.chains import RetrievalQA\n",
        "from langchain.prompts import PromptTemplate\n",
        "from langchain_groq import ChatGroq\n",
        "from langchain.schema import ChatMessage, HumanMessage, AIMessage\n",
        "\n",
        "# Define a prompt template for RAG\n",
        "prompt_template = \"\"\"\n",
        "You are a helpful assistant. Use the following pieces of context to answer the question at the end.\n",
        "If you don't know the answer, just say you don't know. DO NOT try to make up an answer.\n",
        "\n",
        "Context:\n",
        "{context}\n",
        "\n",
        "Question:\n",
        "{question}\n",
        "\n",
        "Answer:\n",
        "\"\"\"\n",
        "\n",
        "prompt = PromptTemplate(\n",
        "    input_variables=[\"context\", \"question\"],\n",
        "    template=prompt_template\n",
        ")"
      ],
      "metadata": {
        "id": "W4Wz19s5C6dF"
      },
      "execution_count": null,
      "outputs": []
    },
    {
      "cell_type": "code",
      "source": [
        "# Step 6: Define a function to retrieve documents and query the LLM\n",
        "def query_rag_pipeline(query, retriever, model):\n",
        "    # Step 1: Retrieve relevant documents\n",
        "    docs = retriever.get_relevant_documents(query)\n",
        "\n",
        "    # Step 2: Combine retrieved documents into context\n",
        "    context = \"\\n\".join([doc.page_content for doc in docs])\n",
        "\n",
        "    # Step 3: Format the prompt using the template\n",
        "    formatted_prompt = prompt.format(context=context, question=query)\n",
        "\n",
        "    # Step 4: Convert the prompt into a list of ChatMessage objects\n",
        "    messages = [\n",
        "        HumanMessage(content=formatted_prompt)  # ChatGroq expects this format\n",
        "    ]\n",
        "\n",
        "    # Step 5: Query the LLM with the list of ChatMessage objects\n",
        "    response = model(messages)\n",
        "\n",
        "    return response"
      ],
      "metadata": {
        "colab": {
          "base_uri": "https://localhost:8080/"
        },
        "id": "PJNuMEUtFa5h",
        "outputId": "21f01650-9124-4ab8-fd2d-f0fa9a24b1ac"
      },
      "execution_count": null,
      "outputs": [
        {
          "output_type": "stream",
          "name": "stdout",
          "text": [
            "Response: According to the context, Chitosan is a positively charged polymer made up of units of (1-4)-β-linked d-glucosamine (GlcN) and N-acetyl-d-glucosamine (GlcNAc).\n"
          ]
        }
      ]
    },
    {
      "cell_type": "code",
      "source": [
        "# Example query\n",
        "query = \"What is Chitosan?\"\n",
        "response = query_rag_pipeline(query, retriever, model)\n",
        "\n",
        "# Output the response\n",
        "print(\"AI Response:\", response.content)"
      ],
      "metadata": {
        "colab": {
          "base_uri": "https://localhost:8080/"
        },
        "id": "Uylq8upiIs5g",
        "outputId": "3745e3a3-91b9-4f13-ac19-067f097dfda9"
      },
      "execution_count": null,
      "outputs": [
        {
          "output_type": "stream",
          "name": "stdout",
          "text": [
            "AI Response: According to the text, Chitosan is a positively charged polymer made up of units of (1-4)-β-linked d-glucosamine (GlcN) and N-acetyl-d-glucosamine (GlcNAc). It has attracted significant interest in the field of biomaterials and biomedical research due to its excellent compatibility with biological tissues and ability to be easily degraded and absorbed by the body.\n"
          ]
        }
      ]
    },
    {
      "cell_type": "code",
      "source": [
        "# Example query\n",
        "query = \"What is 'Attention is all you need'?\"\n",
        "response = query_rag_pipeline(query, retriever, model)\n",
        "\n",
        "# Output the response\n",
        "print(\"AI Response:\", response.content)"
      ],
      "metadata": {
        "colab": {
          "base_uri": "https://localhost:8080/"
        },
        "id": "zOu6vnVKIyAO",
        "outputId": "7b461b51-6c0b-469e-8c8a-2b8770b8e726"
      },
      "execution_count": null,
      "outputs": [
        {
          "output_type": "stream",
          "name": "stdout",
          "text": [
            "AI Response: I don't know. The provided context does not mention \"Attention is all you need\". It seems to be a report or submission related to a photosensitizer and flags, but it does not appear to be related to the phrase \"Attention is all you need\".\n"
          ]
        }
      ]
    },
    {
      "cell_type": "code",
      "source": [
        "# Example query\n",
        "query = \"Can you give me a summary of the document\"\n",
        "response = query_rag_pipeline(query, retriever, model)\n",
        "\n",
        "# Output the response\n",
        "print(\"Response:\", response.content)"
      ],
      "metadata": {
        "colab": {
          "base_uri": "https://localhost:8080/"
        },
        "id": "tCTPBiJpJfaZ",
        "outputId": "cefc6a1b-0cef-46ec-beca-16572e004f06"
      },
      "execution_count": null,
      "outputs": [
        {
          "output_type": "stream",
          "name": "stdout",
          "text": [
            "Response: Based on the provided context, it appears to be a page from a document titled \"Integrity Submission\" with a submission ID of trn:oid:::1:3078924115. The page contains a schematic representation of the synthesis of a CSO-Ce6 conjugate, which is a chemical compound.\n",
            "\n",
            "However, I must note that the context provided is limited to a single page, and it does not provide a comprehensive summary of the entire document. If you would like me to provide more information, I would need additional context or access to the entire document.\n"
          ]
        }
      ]
    },
    {
      "cell_type": "code",
      "source": [
        "from langchain.output_parsers import PydanticOutputParser\n",
        "from pydantic import BaseModel, Field\n",
        "\n",
        "# Define the structure of the output\n",
        "class ResponseSchema(BaseModel):\n",
        "    answer: str = Field(..., description=\"The answer to the user's question.\")\n",
        "    sources: list[str] = Field(..., description=\"A list of sources used to generate the answer.\")\n"
      ],
      "metadata": {
        "id": "1-MsFqNIQlrN"
      },
      "execution_count": 80,
      "outputs": []
    },
    {
      "cell_type": "code",
      "source": [
        "import re\n",
        "import json\n",
        "from typing import Optional, List, Dict, Any\n",
        "from langchain.chains import RetrievalQA\n",
        "from langchain.prompts import PromptTemplate\n",
        "from langchain_groq import ChatGroq\n",
        "from langchain.schema import ChatMessage, HumanMessage, AIMessage\n",
        "from langchain.output_parsers import PydanticOutputParser\n",
        "from pydantic import BaseModel, Field, ValidationError\n",
        "\n",
        "# Define a structured output model\n",
        "class RAGResponse(BaseModel):\n",
        "    answer: str = Field(description=\"Comprehensive answer to the query\")\n",
        "    source_documents: List[Dict[str, Any]] = Field(\n",
        "        description=\"List of source documents used to generate the answer\",\n",
        "        default_factory=list\n",
        "    )\n",
        "    confidence_score: float = Field(\n",
        "        description=\"Confidence of the answer (0-1 scale)\",\n",
        "        ge=0,\n",
        "        le=1,\n",
        "        default=0.0\n",
        "    )\n",
        "\n",
        "    class Config:\n",
        "        json_schema_extra = {\n",
        "            \"example\": {\n",
        "                \"answer\": \"The document discusses key strategies for project management.\",\n",
        "                \"source_documents\": [\n",
        "                    {\"page_content\": \"Excerpt from document 1\", \"metadata\": {\"source\": \"doc1.pdf\", \"page\": 5}}\n",
        "                ],\n",
        "                \"confidence_score\": 0.85\n",
        "            }\n",
        "        }\n",
        "\n",
        "def create_enhanced_prompt_template(output_parser: PydanticOutputParser):\n",
        "    \"\"\"\n",
        "    Create an enhanced prompt template with explicit instructions and output parsing.\n",
        "\n",
        "    Args:\n",
        "        output_parser (PydanticOutputParser): Parser for structuring the output\n",
        "\n",
        "    Returns:\n",
        "        PromptTemplate: Enhanced prompt template\n",
        "    \"\"\"\n",
        "    prompt_template = \"\"\"You are a precise and helpful research assistant.\n",
        "Analyze the provided context carefully and answer the question with the following guidelines:\n",
        "\n",
        "1. Provide a comprehensive and accurate answer based strictly on the given context.\n",
        "2. If the answer cannot be definitively found in the context, acknowledge this explicitly.\n",
        "3. Assess and report your confidence in the answer.\n",
        "4. Cite the specific sources used for your answer.\n",
        "\n",
        "{format_instructions}\n",
        "\n",
        "Context:\n",
        "{context}\n",
        "\n",
        "Question: {question}\n",
        "\n",
        "Provide your response DIRECTLY as a JSON object matching the specified format.\n",
        "Do NOT nest the response inside another key like \"example\".\"\"\"\n",
        "\n",
        "    return PromptTemplate(\n",
        "        template=prompt_template,\n",
        "        input_variables=[\"context\", \"question\"],\n",
        "        partial_variables={\n",
        "            \"format_instructions\": output_parser.get_format_instructions()\n",
        "        }\n",
        "    )\n",
        "\n",
        "def extract_and_clean_json(text: str) -> Dict[str, Any]:\n",
        "    \"\"\"\n",
        "    Extract and clean JSON from the response text.\n",
        "\n",
        "    Args:\n",
        "        text (str): Input text potentially containing JSON\n",
        "\n",
        "    Returns:\n",
        "        Dict[str, Any]: Cleaned JSON dictionary\n",
        "    \"\"\"\n",
        "    try:\n",
        "        # First, try to parse the entire text as JSON\n",
        "        parsed = json.loads(text)\n",
        "\n",
        "        # If there's a nested 'example' or similar key, extract it\n",
        "        if isinstance(parsed, dict) and 'example' in parsed:\n",
        "            return parsed['example']\n",
        "\n",
        "        return parsed\n",
        "    except json.JSONDecodeError:\n",
        "        # If direct parsing fails, try to extract JSON manually\n",
        "        try:\n",
        "            # Use regex to find JSON object\n",
        "            json_match = re.search(r'\\{.*\\}', text, re.DOTALL)\n",
        "            if json_match:\n",
        "                json_str = json_match.group(0)\n",
        "                parsed = json.loads(json_str)\n",
        "\n",
        "                # Again, check for nested 'example'\n",
        "                if isinstance(parsed, dict) and 'example' in parsed:\n",
        "                    return parsed['example']\n",
        "\n",
        "                return parsed\n",
        "        except Exception:\n",
        "            pass\n",
        "\n",
        "    # Fallback\n",
        "    return {}\n",
        "\n",
        "def new_query_rag_pipeline(\n",
        "    query: str,\n",
        "    retriever,\n",
        "    model,\n",
        "    top_k: int = 3\n",
        "):\n",
        "    \"\"\"\n",
        "    Enhanced RAG pipeline with structured output and source tracking.\n",
        "\n",
        "    Args:\n",
        "        query (str): User's query\n",
        "        retriever: Document retriever\n",
        "        model: Language model\n",
        "        top_k (int): Number of documents to retrieve\n",
        "\n",
        "    Returns:\n",
        "        RAGResponse: Structured response with answer, sources, and confidence\n",
        "    \"\"\"\n",
        "    # Create output parser\n",
        "    output_parser = PydanticOutputParser(pydantic_object=RAGResponse)\n",
        "\n",
        "    # Create enhanced prompt\n",
        "    prompt = create_enhanced_prompt_template(output_parser)\n",
        "\n",
        "    # Retrieve relevant documents\n",
        "    docs = retriever.get_relevant_documents(query)[:top_k]\n",
        "\n",
        "    # Combine retrieved documents into context\n",
        "    context = \"\\n\\n\".join([\n",
        "        f\"Document {i+1} (Page {doc.metadata.get('page', 'N/A')}):\\n{doc.page_content}\"\n",
        "        for i, doc in enumerate(docs)\n",
        "    ])\n",
        "\n",
        "    # Prepare context-aware prompt\n",
        "    formatted_prompt = prompt.format(\n",
        "        context=context,\n",
        "        question=query\n",
        "    )\n",
        "\n",
        "    # Query the LLM\n",
        "    response = model([HumanMessage(content=formatted_prompt)])\n",
        "\n",
        "    try:\n",
        "        # Extract and clean JSON\n",
        "        json_dict = extract_and_clean_json(response.content)\n",
        "\n",
        "        # Parse the response\n",
        "        parsed_response = RAGResponse(\n",
        "            answer=json_dict.get('answer', 'No answer found'),\n",
        "            confidence_score=json_dict.get('confidence_score', 0.0),\n",
        "            source_documents=[]\n",
        "        )\n",
        "\n",
        "        # Manually add source document metadata\n",
        "        parsed_response.source_documents = [\n",
        "            {\n",
        "                \"page_content\": doc.page_content,\n",
        "                \"metadata\": doc.metadata\n",
        "            } for doc in docs\n",
        "        ]\n",
        "\n",
        "        return parsed_response\n",
        "    except Exception as e:\n",
        "        # Fallback response if parsing fails\n",
        "        return RAGResponse(\n",
        "            answer=f\"Error parsing response: {str(e)}. Original response: {response.content}\",\n",
        "            confidence_score=0.0,\n",
        "            source_documents=[]\n",
        "        )"
      ],
      "metadata": {
        "id": "J_nmcAN1QoS7"
      },
      "execution_count": 89,
      "outputs": []
    },
    {
      "cell_type": "code",
      "source": [
        "query = \"What is Chitosan?\"\n",
        "result = new_query_rag_pipeline(query, retriever, model)\n",
        "print(\"AI Response:\", result.answer)\n",
        "print(\"Sources:\", result.source_documents)\n",
        "print(\"Confidence Score:\", result.confidence_score)"
      ],
      "metadata": {
        "colab": {
          "base_uri": "https://localhost:8080/"
        },
        "id": "nvXCbdG3R7WO",
        "outputId": "f90b8da7-0e4d-4e1e-8df0-8807c60bceb7"
      },
      "execution_count": 90,
      "outputs": [
        {
          "output_type": "stream",
          "name": "stdout",
          "text": [
            "AI Response: Chitosan is a positively charged polymer made up of units of (1-4)-β-linked d-glucosamine (GlcN) and N-acetyl-d-glucosamine (GlcNAc), which has excellent compatibility with biological tissues and can be easily degraded and absorbed by the body.\n",
            "Sources: [{'page_content': '5 \\n \\nThe primary characteristic of irreversible chromophores is their photo \\ncleavability, which makes them useful for regulated drug administration and \\nphotodegradable materials. (“Cui and Del Campo, 2014”).  \\nIn recent years, chitosan, a positively charged polymer made up of units of (1-\\n4)-β-linked d -glucosamine (GlcN)  and N-acetyl-d-glucosamine (GlcNAc) , has \\nattracted significant interest in the field of bio  medical research.  Chitosan has \\nexcellent compatibility with biological tissues and can be easily deg raded and \\nabsorbed by the body, because of this it is widely used for chemical applications.  \\nMinimally invasive techniques used in tissue regeneration, advanced wound care, \\nand targeted therapeutic delivery  are some of the applications . Enhanced \\nbiomaterials could potentially extend the effects of treatments by facilitating \\ncontrolled release of medications or stem cells within the extracellular matrix,', 'metadata': {}}, {'page_content': '5 \\n \\nThe primary characteristic of irreversible chromophores is their photo \\ncleavability, which makes them useful for regulated drug administration and \\nphotodegradable materials. (“Cui and Del Campo, 2014”).  \\nIn recent years, chitosan, a positively charged polymer made up of units of (1-\\n4)-β-linked d -glucosamine (GlcN)  and N-acetyl-d-glucosamine (GlcNAc) , has \\nattracted significant interest in the field of bio  medical research.  Chitosan has \\nexcellent compatibility with biological tissues and can be easily deg raded and \\nabsorbed by the body, because of this it is widely used for chemical applications.  \\nMinimally invasive techniques used in tissue regeneration, advanced wound care, \\nand targeted therapeutic delivery  are some of the applications . Enhanced \\nbiomaterials could potentially extend the effects of treatments by facilitating \\ncontrolled release of medications or stem cells within the extracellular matrix,', 'metadata': {}}, {'page_content': '5 \\n \\nThe primary characteristic of irreversible chromophores is their photo \\ncleavability, which makes them useful for regulated drug administration and \\nphotodegradable materials. (“Cui and Del Campo, 2014”).  \\nIn recent years, chitosan, a positively charged polymer made up of units of (1-\\n4)-β-linked d -glucosamine (GlcN)  and N-acetyl-d-glucosamine (GlcNAc) , has \\nattracted significant interest in the field of bio  medical research.  Chitosan has \\nexcellent compatibility with biological tissues and can be easily deg raded and \\nabsorbed by the body, because of this it is widely used for chemical applications.  \\nMinimally invasive techniques used in tissue regeneration, advanced wound care, \\nand targeted therapeutic delivery  are some of the applications . Enhanced \\nbiomaterials could potentially extend the effects of treatments by facilitating \\ncontrolled release of medications or stem cells within the extracellular matrix,', 'metadata': {}}]\n",
            "Confidence Score: 0.9\n"
          ]
        }
      ]
    }
  ]
}